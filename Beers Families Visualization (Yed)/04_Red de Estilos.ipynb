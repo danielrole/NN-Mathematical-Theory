{
 "cells": [
  {
   "cell_type": "markdown",
   "metadata": {},
   "source": [
    "# Visualizando nuestras clasificaciónes\n",
    "\n",
    "Para tener una mejor idea de las relaciones que existen entre nuestros datos, generaremos gráficas utilizando el softweare Yed y la paquetería pyyed."
   ]
  },
  {
   "cell_type": "code",
   "execution_count": 1,
   "metadata": {},
   "outputs": [],
   "source": [
    "import pandas as pd\n",
    "import numpy as np\n",
    "\n",
    "#pip install pyyed\n",
    "import pyyed"
   ]
  },
  {
   "cell_type": "markdown",
   "metadata": {},
   "source": [
    "## Función Generadora de Redes"
   ]
  },
  {
   "cell_type": "code",
   "execution_count": 2,
   "metadata": {},
   "outputs": [],
   "source": [
    "# Crea un arrgelo con los códigos de identificación únicos\n",
    "def get_array(df, col_1, col_2):\n",
    "    \n",
    "    list_cat = df[col_1].unique()\n",
    "    \n",
    "    array_list = []\n",
    "    \n",
    "    for style in list_cat:\n",
    "        array_list.append(np.array((df[df[col_1] == style][col_2])))\n",
    "    \n",
    "    return array_list\n",
    "\n",
    "#  Crea un diccionario del arreglo\n",
    "def get_dic(df, col_1, cat):\n",
    "    \n",
    "    list_cat = df[col_1].unique()\n",
    "    dic_list = []\n",
    "    \n",
    "    for i in range(len(cat)):\n",
    "        dic_list.append({list_cat[i]:cat[i].tolist()})\n",
    "    \n",
    "    return dic_list, list_cat\n",
    "\n",
    "# Todo junto\n",
    "def get_list_dic(df, col_1, col_2):\n",
    "    ls = get_array(df, col_1, col_2)\n",
    "    \n",
    "    return get_dic(df, col_1, ls)"
   ]
  },
  {
   "cell_type": "code",
   "execution_count": 3,
   "metadata": {},
   "outputs": [],
   "source": [
    "# Genera los nodos de la red\n",
    "def get_nodes(g, ls):\n",
    "    for i in ls:\n",
    "        g.add_node(i)\n",
    "\n",
    "# Genera los nodos de la red con descrición\n",
    "def get_nodes_wd(g, df, col_1, col_2):\n",
    "    for i in range(len(df)):\n",
    "        g.add_node(df[col_1][i], description = str(df[col_2][i]))\n",
    "        \n",
    "# Genera una lista de pares únicos sin repetición\n",
    "def get_unique_pairs(ls):\n",
    "    \n",
    "    ls_1 = []\n",
    "    \n",
    "    for i in range(len(ls)):\n",
    "        for j in ls[1+i:len(ls)]:\n",
    "            ls_1.append((ls[i], j))\n",
    "    return ls_1\n",
    "\n",
    "\n",
    "# Genera conexiones entre pares únicos\n",
    "def get_unique_pairs_edges(g, ls, color):\n",
    "    \n",
    "    for i in get_unique_pairs(ls):\n",
    "        g.add_edge(i[0], i[1], color = color, arrowhead=\"none\")"
   ]
  },
  {
   "cell_type": "code",
   "execution_count": 4,
   "metadata": {},
   "outputs": [],
   "source": [
    "# Funcón generadora de Gráficas de Redes!!!\n",
    "\n",
    "def fggr(df, col_1, col_2, string, color):\n",
    "    \n",
    "    list_final, idx = get_list_dic(df, col_1, col_2)\n",
    "    df_1 = pd.DataFrame(idx).reset_index().rename(columns={0:\"Category\"})\n",
    "    h = pyyed.Graph()\n",
    "    \n",
    "    for i in df_1['index']:\n",
    "        get_nodes(h ,list_final[i][idx[i]])\n",
    "        get_unique_pairs_edges(h, list_final[i][idx[i]], color)\n",
    "        \n",
    "        h.write_graph('graf/' + string + '.graphml')"
   ]
  },
  {
   "cell_type": "markdown",
   "metadata": {},
   "source": [
    "## Nuestras Gráficas"
   ]
  },
  {
   "cell_type": "code",
   "execution_count": 6,
   "metadata": {},
   "outputs": [
    {
     "data": {
      "text/plain": [
       "Index(['BJCP Categories', 'Styles', 'Style Family', 'Style History', 'Origin'], dtype='object')"
      ]
     },
     "execution_count": 6,
     "metadata": {},
     "output_type": "execute_result"
    }
   ],
   "source": [
    "Guidelines = pd.read_excel('SUP/2015_Guidelines.xlsx')\n",
    "Guidelines.keys()[[1,2,3,4,5]]"
   ]
  },
  {
   "cell_type": "code",
   "execution_count": 8,
   "metadata": {},
   "outputs": [],
   "source": [
    "color = ['#0077BE','#AE0C00','#30BA8F','#FADA5E']\n",
    "cat_var = ['BJCP Categories', 'Style Family', 'Style History', 'Origin']\n",
    "\n",
    "\n",
    "#Este código genera una gráfica completa de todas las clasificaciones con una conección única por cada una de estas.\n",
    "H = pyyed.Graph()\n",
    "\n",
    "get_nodes(H, Guidelines['#'])\n",
    "\n",
    "ls = []\n",
    "idx = []\n",
    "\n",
    "for i in cat_var:\n",
    "    ls.append(get_list_dic(Guidelines, i, '#')[0])\n",
    "    idx.append(get_list_dic(Guidelines, i, '#')[1])\n",
    "\n",
    "for j in range(4):\n",
    "    for k in range(len(ls[j])):\n",
    "        get_unique_pairs_edges(H, ls[j][k][idx[j][k]], color[j])\n",
    "\n",
    "H.write_graph('graf/complete.graphml')\n",
    "\n",
    "#Este código genera gráficas individuales por categoría \n",
    "for i in range(len(cat_var)):\n",
    "    fggr(Guidelines, cat_var[i], '#', cat_var[i], color[i])"
   ]
  }
 ],
 "metadata": {
  "kernelspec": {
   "display_name": "Python 3",
   "language": "python",
   "name": "python3"
  },
  "language_info": {
   "codemirror_mode": {
    "name": "ipython",
    "version": 3
   },
   "file_extension": ".py",
   "mimetype": "text/x-python",
   "name": "python",
   "nbconvert_exporter": "python",
   "pygments_lexer": "ipython3",
   "version": "3.8.3"
  }
 },
 "nbformat": 4,
 "nbformat_minor": 4
}

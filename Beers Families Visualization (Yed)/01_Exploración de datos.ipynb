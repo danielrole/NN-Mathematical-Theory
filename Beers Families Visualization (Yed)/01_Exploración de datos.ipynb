{
 "cells": [
  {
   "cell_type": "markdown",
   "metadata": {},
   "source": [
    "# Exploración de Datos\n",
    "Cervezas"
   ]
  },
  {
   "cell_type": "markdown",
   "metadata": {},
   "source": [
    "A continuación exploraremos el dataset \"Beers, Breweries, and Beer Reviews\" obtenido de las plataforma kaggle.com, para el desarrollo de un algoritmo de recomendación para cervezas."
   ]
  },
  {
   "cell_type": "code",
   "execution_count": 1,
   "metadata": {},
   "outputs": [],
   "source": [
    "import pandas as pd\n",
    "import matplotlib.pyplot as plt\n",
    "import seaborn as sns"
   ]
  },
  {
   "cell_type": "markdown",
   "metadata": {},
   "source": [
    "Iniciaremos cargando las bases de datos y viendo que tipos de datos contienen:"
   ]
  },
  {
   "cell_type": "code",
   "execution_count": 2,
   "metadata": {},
   "outputs": [],
   "source": [
    "beers = pd.read_csv(\"BBR/beers.csv\")\n",
    "breweries = pd.read_csv(\"BBR/breweries.csv\")\n",
    "|111qqq222q1"
   ]
  },
  {
   "cell_type": "markdown",
   "metadata": {},
   "source": [
    "## Database/Beers\n",
    "Observamos la primer base de datos, la cual contiene información de 358,873 cervezas, los datos interés son:\n",
    "<ol>\n",
    "    <li>Nombre\n",
    "    <li>Identificación\n",
    "    <li>Identificación de la cervecería\n",
    "    <li>Origen (país/estado)\n",
    "    <li>Tipo de cerveza\n",
    "    <li>Disponibilidad (Epoca del año)\n",
    "    <li>Alcohol por volumen (abv)\n",
    "</ol>    "
   ]
  },
  {
   "cell_type": "code",
   "execution_count": 3,
   "metadata": {
    "scrolled": true
   },
   "outputs": [
    {
     "data": {
      "text/html": [
       "<div>\n",
       "<style scoped>\n",
       "    .dataframe tbody tr th:only-of-type {\n",
       "        vertical-align: middle;\n",
       "    }\n",
       "\n",
       "    .dataframe tbody tr th {\n",
       "        vertical-align: top;\n",
       "    }\n",
       "\n",
       "    .dataframe thead th {\n",
       "        text-align: right;\n",
       "    }\n",
       "</style>\n",
       "<table border=\"1\" class=\"dataframe\">\n",
       "  <thead>\n",
       "    <tr style=\"text-align: right;\">\n",
       "      <th></th>\n",
       "      <th>id</th>\n",
       "      <th>name</th>\n",
       "      <th>brewery_id</th>\n",
       "      <th>state</th>\n",
       "      <th>country</th>\n",
       "      <th>style</th>\n",
       "      <th>availability</th>\n",
       "      <th>abv</th>\n",
       "      <th>notes</th>\n",
       "      <th>retired</th>\n",
       "    </tr>\n",
       "  </thead>\n",
       "  <tbody>\n",
       "    <tr>\n",
       "      <th>0</th>\n",
       "      <td>202522</td>\n",
       "      <td>Olde Cogitator</td>\n",
       "      <td>2199</td>\n",
       "      <td>CA</td>\n",
       "      <td>US</td>\n",
       "      <td>English Oatmeal Stout</td>\n",
       "      <td>Rotating</td>\n",
       "      <td>7.3</td>\n",
       "      <td>No notes at this time.</td>\n",
       "      <td>f</td>\n",
       "    </tr>\n",
       "    <tr>\n",
       "      <th>1</th>\n",
       "      <td>82352</td>\n",
       "      <td>Konrads Stout Russian Imperial Stout</td>\n",
       "      <td>18604</td>\n",
       "      <td>NaN</td>\n",
       "      <td>NO</td>\n",
       "      <td>Russian Imperial Stout</td>\n",
       "      <td>Rotating</td>\n",
       "      <td>10.4</td>\n",
       "      <td>No notes at this time.</td>\n",
       "      <td>f</td>\n",
       "    </tr>\n",
       "    <tr>\n",
       "      <th>2</th>\n",
       "      <td>214879</td>\n",
       "      <td>Scottish Right</td>\n",
       "      <td>44306</td>\n",
       "      <td>IN</td>\n",
       "      <td>US</td>\n",
       "      <td>Scottish Ale</td>\n",
       "      <td>Year-round</td>\n",
       "      <td>4.0</td>\n",
       "      <td>No notes at this time.</td>\n",
       "      <td>t</td>\n",
       "    </tr>\n",
       "    <tr>\n",
       "      <th>3</th>\n",
       "      <td>320009</td>\n",
       "      <td>MegaMeow Imperial Stout</td>\n",
       "      <td>4378</td>\n",
       "      <td>WA</td>\n",
       "      <td>US</td>\n",
       "      <td>American Imperial Stout</td>\n",
       "      <td>Winter</td>\n",
       "      <td>8.7</td>\n",
       "      <td>Every time this year</td>\n",
       "      <td>f</td>\n",
       "    </tr>\n",
       "    <tr>\n",
       "      <th>4</th>\n",
       "      <td>246438</td>\n",
       "      <td>Peaches-N-Cream</td>\n",
       "      <td>44617</td>\n",
       "      <td>PA</td>\n",
       "      <td>US</td>\n",
       "      <td>American Cream Ale</td>\n",
       "      <td>Rotating</td>\n",
       "      <td>5.1</td>\n",
       "      <td>No notes at this time.</td>\n",
       "      <td>f</td>\n",
       "    </tr>\n",
       "  </tbody>\n",
       "</table>\n",
       "</div>"
      ],
      "text/plain": [
       "       id                                  name  brewery_id state country  \\\n",
       "0  202522                        Olde Cogitator        2199    CA      US   \n",
       "1   82352  Konrads Stout Russian Imperial Stout       18604   NaN      NO   \n",
       "2  214879                        Scottish Right       44306    IN      US   \n",
       "3  320009               MegaMeow Imperial Stout        4378    WA      US   \n",
       "4  246438                       Peaches-N-Cream       44617    PA      US   \n",
       "\n",
       "                     style availability   abv                   notes retired  \n",
       "0    English Oatmeal Stout     Rotating   7.3  No notes at this time.       f  \n",
       "1   Russian Imperial Stout     Rotating  10.4  No notes at this time.       f  \n",
       "2             Scottish Ale   Year-round   4.0  No notes at this time.       t  \n",
       "3  American Imperial Stout       Winter   8.7    Every time this year       f  \n",
       "4       American Cream Ale     Rotating   5.1  No notes at this time.       f  "
      ]
     },
     "metadata": {},
     "output_type": "display_data"
    },
    {
     "name": "stdout",
     "output_type": "stream",
     "text": [
      "Existen datos de 358,873 cervezas, clasificadas en 113 estilos, de 194 países\n"
     ]
    }
   ],
   "source": [
    "display(beers.head())\n",
    "print('Existen datos de ' + str(len(beers))[:3]+','+str(len(beers))[3:] + ' cervezas, clasificadas en ' + str(len(beers['style'].unique())) + ' estilos, de ' + str(len(beers['country'].unique())) +' países')"
   ]
  },
  {
   "cell_type": "markdown",
   "metadata": {},
   "source": [
    "### ¿Que países tienen más cervezas diferentes?\n",
    "\n",
    "Para tener una idea mas clara de la información que ahora poseemos, podemos visualizar la cantidad de cervezas distintas por país, podemos empezar por conocer los 20 países con mas cantidad de cervezas diferentes."
   ]
  },
  {
   "cell_type": "code",
   "execution_count": 111,
   "metadata": {
    "scrolled": true
   },
   "outputs": [],
   "source": [
    "continents = pd.read_csv(\"SUP/continents.csv\")\n",
    "continents_mod = continents[['name', 'alpha-2', 'region', 'sub-region']]\n",
    "\n",
    "beers_per_country = beers.groupby('country').size().sort_values(ascending=False)\n",
    "top_20_beers_per_country = beers_per_country[:20].to_frame().reset_index().rename(columns={0:'beers_per_country'})\n",
    "\n",
    "top_20_beers_per_country_by_name = top_20_beers_per_country.merge(continents_mod,how='left', left_on='country', right_on='alpha-2')\n",
    "\n",
    "\n",
    "#display(top_20_beers_per_country_by_name[['name','beers_per_country']].set_index('name'))"
   ]
  },
  {
   "cell_type": "markdown",
   "metadata": {},
   "source": [
    "Podemos apreciar que las cervezas de Estados unidos ocupan un 73.37% de nuestra base de datos, por lo que lo omitiremos de la gráfica, pues tiene 10 veces mas cervezas distintas que el segundo puesto."
   ]
  },
  {
   "cell_type": "code",
   "execution_count": 114,
   "metadata": {
    "scrolled": true
   },
   "outputs": [
    {
     "data": {
      "image/png": "[encoded data removed]",
      "text/plain": [
       "<Figure size 1440x360 with 1 Axes>"
      ]
     },
     "metadata": {},
     "output_type": "display_data"
    }
   ],
   "source": [
    "top_20_beers_per_country_by_name_no_us = top_20_beers_per_country_by_name[top_20_beers_per_country_by_name['alpha-2'] != 'US']\n",
    "non_us_top10_beer = top_20_beers_per_country_by_name_no_us[:10]\n",
    "\n",
    "sns.set_style(\"darkgrid\")\n",
    "\n",
    "fig, ax = plt.subplots(figsize=(20,5))\n",
    "\n",
    "ax.bar(top_20_beers_per_country_by_name_no_us['name'], top_20_beers_per_country_by_name_no_us['beers_per_country'])\n",
    "plt.xticks(rotation=90)\n",
    "plt.title(\"Países con más cervezas distintas (sin USA)\")\n",
    "plt.show()"
   ]
  },
  {
   "cell_type": "code",
   "execution_count": 187,
   "metadata": {},
   "outputs": [
    {
     "name": "stdout",
     "output_type": "stream",
     "text": [
      "Como dato importante, sabemos que México tiene 839 cervezas distintas\n"
     ]
    }
   ],
   "source": [
    "print('Como dato importante, sabemos que México tiene ' + str(beers_per_country['MX'])+ ' cervezas distintas')"
   ]
  },
  {
   "cell_type": "markdown",
   "metadata": {},
   "source": [
    "### ¿Cuales son los estilos de cerveza mas populares?\n",
    "Al igual que saber de donde provienen las cervezas, es importante darse una idea del estilo que las define."
   ]
  },
  {
   "cell_type": "code",
   "execution_count": 8,
   "metadata": {},
   "outputs": [],
   "source": [
    "beers_per_style = beers.groupby(['style']).size().sort_values(ascending=False)\n",
    "top_20_beers_per_style = beers_per_style[:20].to_frame().reset_index().rename(columns={0:'beers_per_style'})\n",
    "\n",
    "top_20_beers_per_style_index = top_20_beers_per_style.set_index('style')\n",
    "#display(top_20_beers_per_style_index)\n",
    "\n",
    "beers_per_style.to_csv('beers_style.csv')"
   ]
  },
  {
   "cell_type": "markdown",
   "metadata": {},
   "source": [
    "los estilos Estadounidenses, Belgas y Alemanes dominan esta categoría, veamos esto representado gráficamente."
   ]
  },
  {
   "cell_type": "code",
   "execution_count": 48,
   "metadata": {
    "scrolled": true
   },
   "outputs": [
    {
     "data": {
      "image/png": "[encoded data removed]",
      "text/plain": [
       "<Figure size 1440x360 with 1 Axes>"
      ]
     },
     "metadata": {
      "needs_background": "light"
     },
     "output_type": "display_data"
    }
   ],
   "source": [
    "fig1, ax1 = plt.subplots(figsize=(20,5))\n",
    "\n",
    "ax1.bar(top_20_beers_per_style['style'], top_20_beers_per_style_index['beers_per_style'])\n",
    "plt.xticks(rotation=90)\n",
    "plt.title(\"Estilos de cerveza más populares\")\n",
    "plt.show()"
   ]
  },
  {
   "cell_type": "markdown",
   "metadata": {},
   "source": [
    "### Regiones y estilos del mundo en términos del ABV\n",
    "El ABV (en ingles \"Alcohol by Volume\") es una medida estandar sobre cuanto alcohol esta contenido en una bebida alcohólica, veamos como varían estos porcentajes por region y en los 20 primeros estilos de cerveza "
   ]
  },
  {
   "cell_type": "code",
   "execution_count": 41,
   "metadata": {},
   "outputs": [
    {
     "data": {
      "image/png": "[encoded data removed]",
      "text/plain": [
       "<Figure size 1440x360 with 1 Axes>"
      ]
     },
     "metadata": {
      "needs_background": "light"
     },
     "output_type": "display_data"
    }
   ],
   "source": [
    "ax2, fig2 = plt.subplots(figsize=(20,5))\n",
    "sns.boxplot(data=beers_per_continent, y='region', x='abv')\n",
    "plt.show()"
   ]
  },
  {
   "cell_type": "markdown",
   "metadata": {},
   "source": [
    "Esto es interesante, los datos nos dicen que en promedio, las cervezas americanas contienen mas alcohol, seguidas por las europeas, las oceánicas, las asiáticas y por último las africanas.\n",
    "\n",
    "Veamos que datos obtenemos de comparar distintos estilos de cervezas"
   ]
  },
  {
   "cell_type": "code",
   "execution_count": 110,
   "metadata": {},
   "outputs": [
    {
     "data": {
      "image/png": "[encoded data removed]",
      "text/plain": [
       "<Figure size 1440x720 with 1 Axes>"
      ]
     },
     "metadata": {
      "needs_background": "light"
     },
     "output_type": "display_data"
    }
   ],
   "source": [
    "beers_per_style_df = beers_per_style[:20].to_frame().reset_index()['style']\n",
    "\n",
    "beers_top_20_style = beers.set_index('style').loc[beers_per_style_df]\n",
    "beers_top_20_style_mod = beers_top_20_style[beers_top_20_style['abv'] <= 20].reset_index()\n",
    "\n",
    "\n",
    "ax3, fig3 = plt.subplots(figsize=(20,10))\n",
    "sns.boxplot(data=beers_top_20_style_mod, y='style', x='abv')\n",
    "plt.title(\"Top 20 estilos de cervezas (ABV)\")\n",
    "plt.show()"
   ]
  },
  {
   "cell_type": "markdown",
   "metadata": {},
   "source": [
    "## Database/Breweries\n",
    "Nuestra segunda base de datos contiene información de 50,347 cervecerías ubicadas alrededor de 200 países, nuestras variables de interés son:\n",
    "<ol>\n",
    "    <li>Nombre de la cervecería\n",
    "    <li>Identificación de la cervecería\n",
    "    <li>Origen (ciudad/país/estado)\n",
    "</ol>    "
   ]
  },
  {
   "cell_type": "code",
   "execution_count": 269,
   "metadata": {},
   "outputs": [
    {
     "data": {
      "text/html": [
       "<div>\n",
       "<style scoped>\n",
       "    .dataframe tbody tr th:only-of-type {\n",
       "        vertical-align: middle;\n",
       "    }\n",
       "\n",
       "    .dataframe tbody tr th {\n",
       "        vertical-align: top;\n",
       "    }\n",
       "\n",
       "    .dataframe thead th {\n",
       "        text-align: right;\n",
       "    }\n",
       "</style>\n",
       "<table border=\"1\" class=\"dataframe\">\n",
       "  <thead>\n",
       "    <tr style=\"text-align: right;\">\n",
       "      <th></th>\n",
       "      <th>id</th>\n",
       "      <th>name</th>\n",
       "      <th>city</th>\n",
       "      <th>state</th>\n",
       "      <th>country</th>\n",
       "      <th>notes</th>\n",
       "      <th>types</th>\n",
       "    </tr>\n",
       "  </thead>\n",
       "  <tbody>\n",
       "    <tr>\n",
       "      <th>0</th>\n",
       "      <td>19730</td>\n",
       "      <td>Brouwerij Danny</td>\n",
       "      <td>Erpe-Mere</td>\n",
       "      <td>NaN</td>\n",
       "      <td>BE</td>\n",
       "      <td>No notes at this time.</td>\n",
       "      <td>Brewery</td>\n",
       "    </tr>\n",
       "    <tr>\n",
       "      <th>1</th>\n",
       "      <td>32541</td>\n",
       "      <td>Coachella Valley Brewing Co</td>\n",
       "      <td>Thousand Palms</td>\n",
       "      <td>CA</td>\n",
       "      <td>US</td>\n",
       "      <td>No notes at this time.</td>\n",
       "      <td>Brewery, Bar, Beer-to-go</td>\n",
       "    </tr>\n",
       "    <tr>\n",
       "      <th>2</th>\n",
       "      <td>44736</td>\n",
       "      <td>Beef 'O' Brady's</td>\n",
       "      <td>Plant City</td>\n",
       "      <td>FL</td>\n",
       "      <td>US</td>\n",
       "      <td>No notes at this time.</td>\n",
       "      <td>Bar, Eatery</td>\n",
       "    </tr>\n",
       "    <tr>\n",
       "      <th>3</th>\n",
       "      <td>23372</td>\n",
       "      <td>Broadway Wine Merchant</td>\n",
       "      <td>Oklahoma City</td>\n",
       "      <td>OK</td>\n",
       "      <td>US</td>\n",
       "      <td>No notes at this time.</td>\n",
       "      <td>Store</td>\n",
       "    </tr>\n",
       "    <tr>\n",
       "      <th>4</th>\n",
       "      <td>35328</td>\n",
       "      <td>Brighton Beer Dispensary (DUPLICATE)</td>\n",
       "      <td>Brighton</td>\n",
       "      <td>GB2</td>\n",
       "      <td>GB</td>\n",
       "      <td>Duplicate of https://www.beeradvocate.com/beer...</td>\n",
       "      <td>Bar, Eatery</td>\n",
       "    </tr>\n",
       "  </tbody>\n",
       "</table>\n",
       "</div>"
      ],
      "text/plain": [
       "      id                                  name            city state country  \\\n",
       "0  19730                       Brouwerij Danny       Erpe-Mere   NaN      BE   \n",
       "1  32541           Coachella Valley Brewing Co  Thousand Palms    CA      US   \n",
       "2  44736                      Beef 'O' Brady's      Plant City    FL      US   \n",
       "3  23372                Broadway Wine Merchant   Oklahoma City    OK      US   \n",
       "4  35328  Brighton Beer Dispensary (DUPLICATE)        Brighton   GB2      GB   \n",
       "\n",
       "                                               notes                     types  \n",
       "0                             No notes at this time.                   Brewery  \n",
       "1                             No notes at this time.  Brewery, Bar, Beer-to-go  \n",
       "2                             No notes at this time.               Bar, Eatery  \n",
       "3                             No notes at this time.                     Store  \n",
       "4  Duplicate of https://www.beeradvocate.com/beer...               Bar, Eatery  "
      ]
     },
     "metadata": {},
     "output_type": "display_data"
    },
    {
     "name": "stdout",
     "output_type": "stream",
     "text": [
      "Existen datos de 50,347 cervecerias ubicadas alrededor de 200 países\n"
     ]
    }
   ],
   "source": [
    "display(breweries.head())\n",
    "print('Existen datos de ' + str(len(breweries))[:2] + ',' + str(len(breweries))[2:] + ' cervecerias ubicadas alrededor de ' + str(len(breweries['country'].unique()))+ ' países')"
   ]
  },
  {
   "cell_type": "markdown",
   "metadata": {},
   "source": [
    "Si bien esta database ofrece información importante por si sola, podemos deducir datos mas relevantes al juntarla con la database 'beers', por ejemplo"
   ]
  },
  {
   "cell_type": "markdown",
   "metadata": {},
   "source": [
    "### ¿Cuales son las cervecerias con más cervezas?"
   ]
  },
  {
   "cell_type": "code",
   "execution_count": 149,
   "metadata": {
    "scrolled": true
   },
   "outputs": [
    {
     "data": {
      "image/png": "[encoded data removed]",
      "text/plain": [
       "<Figure size 1440x360 with 1 Axes>"
      ]
     },
     "metadata": {},
     "output_type": "display_data"
    }
   ],
   "source": [
    "breweries_id_by_beers = beers.groupby('brewery_id').size().to_frame().sort_values(0, ascending = False).rename(columns={0:'brewery_per_beers'}).reset_index()\n",
    "\n",
    "breweries_by_beers = breweries_id_by_beers.merge(breweries, how='left', left_on = 'brewery_id', right_on = 'id')[['id','name','country','types','brewery_per_beers']]\n",
    "\n",
    "ax4, fig4 = plt.subplots(figsize=(20,5))\n",
    "\n",
    "plt.bar(breweries_by_beers[:40]['name'], breweries_by_beers[:40]['brewery_per_beers'])\n",
    "plt.xticks(rotation = 90)\n",
    "plt.show()"
   ]
  },
  {
   "cell_type": "markdown",
   "metadata": {},
   "source": [
    "### Cervecerías Mexicanas\n",
    "\n",
    "Clientes objetivos de la apliación"
   ]
  },
  {
   "cell_type": "code",
   "execution_count": 172,
   "metadata": {},
   "outputs": [
    {
     "data": {
      "text/html": [
       "<div>\n",
       "<style scoped>\n",
       "    .dataframe tbody tr th:only-of-type {\n",
       "        vertical-align: middle;\n",
       "    }\n",
       "\n",
       "    .dataframe tbody tr th {\n",
       "        vertical-align: top;\n",
       "    }\n",
       "\n",
       "    .dataframe thead th {\n",
       "        text-align: right;\n",
       "    }\n",
       "</style>\n",
       "<table border=\"1\" class=\"dataframe\">\n",
       "  <thead>\n",
       "    <tr style=\"text-align: right;\">\n",
       "      <th></th>\n",
       "      <th>id</th>\n",
       "      <th>name</th>\n",
       "      <th>country</th>\n",
       "      <th>types</th>\n",
       "      <th>brewery_per_beers</th>\n",
       "    </tr>\n",
       "  </thead>\n",
       "  <tbody>\n",
       "    <tr>\n",
       "      <th>1459</th>\n",
       "      <td>57</td>\n",
       "      <td>Cervecería Cuauhtémoc Moctezuma, S.A. de C.V.</td>\n",
       "      <td>MX</td>\n",
       "      <td>Brewery</td>\n",
       "      <td>55</td>\n",
       "    </tr>\n",
       "    <tr>\n",
       "      <th>3086</th>\n",
       "      <td>11174</td>\n",
       "      <td>Cerveceria Mexicana S.A. De C.V.</td>\n",
       "      <td>MX</td>\n",
       "      <td>Brewery</td>\n",
       "      <td>30</td>\n",
       "    </tr>\n",
       "    <tr>\n",
       "      <th>3897</th>\n",
       "      <td>75</td>\n",
       "      <td>Grupo Modelo S.A. de C.V.</td>\n",
       "      <td>MX</td>\n",
       "      <td>Brewery</td>\n",
       "      <td>24</td>\n",
       "    </tr>\n",
       "    <tr>\n",
       "      <th>4482</th>\n",
       "      <td>28480</td>\n",
       "      <td>Cerveceria Insurgente</td>\n",
       "      <td>MX</td>\n",
       "      <td>Brewery</td>\n",
       "      <td>20</td>\n",
       "    </tr>\n",
       "    <tr>\n",
       "      <th>4564</th>\n",
       "      <td>10541</td>\n",
       "      <td>Cucapá Brewing Company</td>\n",
       "      <td>MX</td>\n",
       "      <td>Brewery, Eatery, Beer-to-go</td>\n",
       "      <td>20</td>\n",
       "    </tr>\n",
       "    <tr>\n",
       "      <th>4635</th>\n",
       "      <td>14033</td>\n",
       "      <td>Cervecería Minerva</td>\n",
       "      <td>MX</td>\n",
       "      <td>Brewery</td>\n",
       "      <td>20</td>\n",
       "    </tr>\n",
       "    <tr>\n",
       "      <th>4764</th>\n",
       "      <td>26988</td>\n",
       "      <td>Restaurante Bar Rámuri</td>\n",
       "      <td>MX</td>\n",
       "      <td>Brewery, Bar</td>\n",
       "      <td>19</td>\n",
       "    </tr>\n",
       "    <tr>\n",
       "      <th>4920</th>\n",
       "      <td>39993</td>\n",
       "      <td>Cerveza Fauna</td>\n",
       "      <td>MX</td>\n",
       "      <td>Brewery</td>\n",
       "      <td>18</td>\n",
       "    </tr>\n",
       "    <tr>\n",
       "      <th>5067</th>\n",
       "      <td>11936</td>\n",
       "      <td>Sierra Madre Brewing Co.</td>\n",
       "      <td>MX</td>\n",
       "      <td>Brewery, Eatery, Beer-to-go</td>\n",
       "      <td>18</td>\n",
       "    </tr>\n",
       "    <tr>\n",
       "      <th>5243</th>\n",
       "      <td>24371</td>\n",
       "      <td>Microcerveceria Gourmet Calavera</td>\n",
       "      <td>MX</td>\n",
       "      <td>Brewery</td>\n",
       "      <td>17</td>\n",
       "    </tr>\n",
       "    <tr>\n",
       "      <th>5441</th>\n",
       "      <td>34646</td>\n",
       "      <td>Border Psycho Brewery</td>\n",
       "      <td>MX</td>\n",
       "      <td>Brewery</td>\n",
       "      <td>16</td>\n",
       "    </tr>\n",
       "    <tr>\n",
       "      <th>5784</th>\n",
       "      <td>16900</td>\n",
       "      <td>Baja Brewing Company</td>\n",
       "      <td>MX</td>\n",
       "      <td>Brewery, Bar, Eatery</td>\n",
       "      <td>15</td>\n",
       "    </tr>\n",
       "    <tr>\n",
       "      <th>5989</th>\n",
       "      <td>41858</td>\n",
       "      <td>Amante Brew Company</td>\n",
       "      <td>MX</td>\n",
       "      <td>Brewery</td>\n",
       "      <td>14</td>\n",
       "    </tr>\n",
       "    <tr>\n",
       "      <th>7289</th>\n",
       "      <td>2882</td>\n",
       "      <td>Beer Factory</td>\n",
       "      <td>MX</td>\n",
       "      <td>Brewery, Eatery, Beer-to-go</td>\n",
       "      <td>11</td>\n",
       "    </tr>\n",
       "    <tr>\n",
       "      <th>7343</th>\n",
       "      <td>39737</td>\n",
       "      <td>Cerveceria Mamut</td>\n",
       "      <td>MX</td>\n",
       "      <td>Brewery, Bar, Eatery</td>\n",
       "      <td>11</td>\n",
       "    </tr>\n",
       "    <tr>\n",
       "      <th>7695</th>\n",
       "      <td>18412</td>\n",
       "      <td>Cerveceria Primus</td>\n",
       "      <td>MX</td>\n",
       "      <td>Brewery</td>\n",
       "      <td>10</td>\n",
       "    </tr>\n",
       "    <tr>\n",
       "      <th>7745</th>\n",
       "      <td>34454</td>\n",
       "      <td>Agua Mala</td>\n",
       "      <td>MX</td>\n",
       "      <td>Brewery</td>\n",
       "      <td>10</td>\n",
       "    </tr>\n",
       "    <tr>\n",
       "      <th>7817</th>\n",
       "      <td>41670</td>\n",
       "      <td>Puerco Salvaje</td>\n",
       "      <td>MX</td>\n",
       "      <td>Brewery, Beer-to-go</td>\n",
       "      <td>10</td>\n",
       "    </tr>\n",
       "    <tr>\n",
       "      <th>7828</th>\n",
       "      <td>39943</td>\n",
       "      <td>Cervecería Wendlandt</td>\n",
       "      <td>MX</td>\n",
       "      <td>Brewery, Bar, Eatery, Beer-to-go</td>\n",
       "      <td>10</td>\n",
       "    </tr>\n",
       "    <tr>\n",
       "      <th>8088</th>\n",
       "      <td>42095</td>\n",
       "      <td>Cervecería Legion</td>\n",
       "      <td>MX</td>\n",
       "      <td>Brewery, Bar, Beer-to-go</td>\n",
       "      <td>9</td>\n",
       "    </tr>\n",
       "  </tbody>\n",
       "</table>\n",
       "</div>"
      ],
      "text/plain": [
       "         id                                           name country  \\\n",
       "1459     57  Cervecería Cuauhtémoc Moctezuma, S.A. de C.V.      MX   \n",
       "3086  11174               Cerveceria Mexicana S.A. De C.V.      MX   \n",
       "3897     75                      Grupo Modelo S.A. de C.V.      MX   \n",
       "4482  28480                          Cerveceria Insurgente      MX   \n",
       "4564  10541                         Cucapá Brewing Company      MX   \n",
       "4635  14033                             Cervecería Minerva      MX   \n",
       "4764  26988                         Restaurante Bar Rámuri      MX   \n",
       "4920  39993                                  Cerveza Fauna      MX   \n",
       "5067  11936                       Sierra Madre Brewing Co.      MX   \n",
       "5243  24371               Microcerveceria Gourmet Calavera      MX   \n",
       "5441  34646                          Border Psycho Brewery      MX   \n",
       "5784  16900                           Baja Brewing Company      MX   \n",
       "5989  41858                            Amante Brew Company      MX   \n",
       "7289   2882                                   Beer Factory      MX   \n",
       "7343  39737                               Cerveceria Mamut      MX   \n",
       "7695  18412                              Cerveceria Primus      MX   \n",
       "7745  34454                                      Agua Mala      MX   \n",
       "7817  41670                                 Puerco Salvaje      MX   \n",
       "7828  39943                           Cervecería Wendlandt      MX   \n",
       "8088  42095                              Cervecería Legion      MX   \n",
       "\n",
       "                                 types  brewery_per_beers  \n",
       "1459                           Brewery                 55  \n",
       "3086                           Brewery                 30  \n",
       "3897                           Brewery                 24  \n",
       "4482                           Brewery                 20  \n",
       "4564       Brewery, Eatery, Beer-to-go                 20  \n",
       "4635                           Brewery                 20  \n",
       "4764                      Brewery, Bar                 19  \n",
       "4920                           Brewery                 18  \n",
       "5067       Brewery, Eatery, Beer-to-go                 18  \n",
       "5243                           Brewery                 17  \n",
       "5441                           Brewery                 16  \n",
       "5784              Brewery, Bar, Eatery                 15  \n",
       "5989                           Brewery                 14  \n",
       "7289       Brewery, Eatery, Beer-to-go                 11  \n",
       "7343              Brewery, Bar, Eatery                 11  \n",
       "7695                           Brewery                 10  \n",
       "7745                           Brewery                 10  \n",
       "7817               Brewery, Beer-to-go                 10  \n",
       "7828  Brewery, Bar, Eatery, Beer-to-go                 10  \n",
       "8088          Brewery, Bar, Beer-to-go                  9  "
      ]
     },
     "metadata": {},
     "output_type": "display_data"
    },
    {
     "name": "stdout",
     "output_type": "stream",
     "text": [
      "Existen 166 cervecerias mexicanas\n"
     ]
    }
   ],
   "source": [
    "display(breweries_by_beers[breweries_by_beers['country'] == 'MX'].head(20))\n",
    "print('Existen ' + str(len(breweries_by_beers[breweries_by_beers['country'] == 'MX']))+' cervecerias mexicanas')"
   ]
  },
  {
   "cell_type": "code",
   "execution_count": 168,
   "metadata": {},
   "outputs": [
    {
     "data": {
      "text/plain": [
       "country\n",
       "US    34693\n",
       "GB     2525\n",
       "CA     1890\n",
       "DE     1812\n",
       "BE      756\n",
       "AU      662\n",
       "FR      623\n",
       "IT      580\n",
       "ES      493\n",
       "NL      458\n",
       "RU      414\n",
       "BR      380\n",
       "JP      330\n",
       "SE      321\n",
       "MX      272\n",
       "AT      247\n",
       "CZ      206\n",
       "PL      197\n",
       "NZ      187\n",
       "CH      171\n",
       "dtype: int64"
      ]
     },
     "metadata": {},
     "output_type": "display_data"
    }
   ],
   "source": [
    "breweries_by_country = breweries.groupby('country').size().sort_values(ascending = False)\n",
    "display(breweries_by_country.head(20))"
   ]
  },
  {
   "cell_type": "markdown",
   "metadata": {},
   "source": [
    "## Dataset/reviews"
   ]
  },
  {
   "cell_type": "code",
   "execution_count": 3,
   "metadata": {
    "scrolled": true
   },
   "outputs": [
    {
     "data": {
      "text/html": [
       "<div>\n",
       "<style scoped>\n",
       "    .dataframe tbody tr th:only-of-type {\n",
       "        vertical-align: middle;\n",
       "    }\n",
       "\n",
       "    .dataframe tbody tr th {\n",
       "        vertical-align: top;\n",
       "    }\n",
       "\n",
       "    .dataframe thead th {\n",
       "        text-align: right;\n",
       "    }\n",
       "</style>\n",
       "<table border=\"1\" class=\"dataframe\">\n",
       "  <thead>\n",
       "    <tr style=\"text-align: right;\">\n",
       "      <th></th>\n",
       "      <th>brewery_id</th>\n",
       "      <th>brewery_name</th>\n",
       "      <th>review_time</th>\n",
       "      <th>review_overall</th>\n",
       "      <th>review_aroma</th>\n",
       "      <th>review_appearance</th>\n",
       "      <th>review_profilename</th>\n",
       "      <th>beer_style</th>\n",
       "      <th>review_palate</th>\n",
       "      <th>review_taste</th>\n",
       "      <th>beer_name</th>\n",
       "      <th>beer_abv</th>\n",
       "      <th>beer_beerid</th>\n",
       "    </tr>\n",
       "  </thead>\n",
       "  <tbody>\n",
       "    <tr>\n",
       "      <th>0</th>\n",
       "      <td>10325</td>\n",
       "      <td>Vecchio Birraio</td>\n",
       "      <td>1234817823</td>\n",
       "      <td>1.5</td>\n",
       "      <td>2.0</td>\n",
       "      <td>2.5</td>\n",
       "      <td>stcules</td>\n",
       "      <td>Hefeweizen</td>\n",
       "      <td>1.5</td>\n",
       "      <td>1.5</td>\n",
       "      <td>Sausa Weizen</td>\n",
       "      <td>5.0</td>\n",
       "      <td>47986</td>\n",
       "    </tr>\n",
       "    <tr>\n",
       "      <th>1</th>\n",
       "      <td>10325</td>\n",
       "      <td>Vecchio Birraio</td>\n",
       "      <td>1235915097</td>\n",
       "      <td>3.0</td>\n",
       "      <td>2.5</td>\n",
       "      <td>3.0</td>\n",
       "      <td>stcules</td>\n",
       "      <td>English Strong Ale</td>\n",
       "      <td>3.0</td>\n",
       "      <td>3.0</td>\n",
       "      <td>Red Moon</td>\n",
       "      <td>6.2</td>\n",
       "      <td>48213</td>\n",
       "    </tr>\n",
       "    <tr>\n",
       "      <th>2</th>\n",
       "      <td>10325</td>\n",
       "      <td>Vecchio Birraio</td>\n",
       "      <td>1235916604</td>\n",
       "      <td>3.0</td>\n",
       "      <td>2.5</td>\n",
       "      <td>3.0</td>\n",
       "      <td>stcules</td>\n",
       "      <td>Foreign / Export Stout</td>\n",
       "      <td>3.0</td>\n",
       "      <td>3.0</td>\n",
       "      <td>Black Horse Black Beer</td>\n",
       "      <td>6.5</td>\n",
       "      <td>48215</td>\n",
       "    </tr>\n",
       "    <tr>\n",
       "      <th>3</th>\n",
       "      <td>10325</td>\n",
       "      <td>Vecchio Birraio</td>\n",
       "      <td>1234725145</td>\n",
       "      <td>3.0</td>\n",
       "      <td>3.0</td>\n",
       "      <td>3.5</td>\n",
       "      <td>stcules</td>\n",
       "      <td>German Pilsener</td>\n",
       "      <td>2.5</td>\n",
       "      <td>3.0</td>\n",
       "      <td>Sausa Pils</td>\n",
       "      <td>5.0</td>\n",
       "      <td>47969</td>\n",
       "    </tr>\n",
       "    <tr>\n",
       "      <th>4</th>\n",
       "      <td>1075</td>\n",
       "      <td>Caldera Brewing Company</td>\n",
       "      <td>1293735206</td>\n",
       "      <td>4.0</td>\n",
       "      <td>4.5</td>\n",
       "      <td>4.0</td>\n",
       "      <td>johnmichaelsen</td>\n",
       "      <td>American Double / Imperial IPA</td>\n",
       "      <td>4.0</td>\n",
       "      <td>4.5</td>\n",
       "      <td>Cauldron DIPA</td>\n",
       "      <td>7.7</td>\n",
       "      <td>64883</td>\n",
       "    </tr>\n",
       "  </tbody>\n",
       "</table>\n",
       "</div>"
      ],
      "text/plain": [
       "   brewery_id             brewery_name  review_time  review_overall  \\\n",
       "0       10325          Vecchio Birraio   1234817823             1.5   \n",
       "1       10325          Vecchio Birraio   1235915097             3.0   \n",
       "2       10325          Vecchio Birraio   1235916604             3.0   \n",
       "3       10325          Vecchio Birraio   1234725145             3.0   \n",
       "4        1075  Caldera Brewing Company   1293735206             4.0   \n",
       "\n",
       "   review_aroma  review_appearance review_profilename  \\\n",
       "0           2.0                2.5            stcules   \n",
       "1           2.5                3.0            stcules   \n",
       "2           2.5                3.0            stcules   \n",
       "3           3.0                3.5            stcules   \n",
       "4           4.5                4.0     johnmichaelsen   \n",
       "\n",
       "                       beer_style  review_palate  review_taste  \\\n",
       "0                      Hefeweizen            1.5           1.5   \n",
       "1              English Strong Ale            3.0           3.0   \n",
       "2          Foreign / Export Stout            3.0           3.0   \n",
       "3                 German Pilsener            2.5           3.0   \n",
       "4  American Double / Imperial IPA            4.0           4.5   \n",
       "\n",
       "                beer_name  beer_abv  beer_beerid  \n",
       "0            Sausa Weizen       5.0        47986  \n",
       "1                Red Moon       6.2        48213  \n",
       "2  Black Horse Black Beer       6.5        48215  \n",
       "3              Sausa Pils       5.0        47969  \n",
       "4           Cauldron DIPA       7.7        64883  "
      ]
     },
     "metadata": {},
     "output_type": "display_data"
    },
    {
     "name": "stdout",
     "output_type": "stream",
     "text": [
      "Existen 1,586,614 reseñas de 33,387 usuarios, la media de reseñas por usuario es 47.51\n"
     ]
    }
   ],
   "source": [
    "display(reviews.head())\n",
    "review_by_profilname = reviews.groupby('review_profilename').size().sort_values(ascending= False)\n",
    "\n",
    "print('Existen ' + str(len(reviews))[:1]+ ',' +str(len(reviews))[1:4]+ ',' +str(len(reviews))[4:] + ' reseñas de ' + str(len(review_by_profilname))[:2]+','+ str(len(review_by_profilname))[2:] + ' usuarios, la media de reseñas por usuario es ' +str(review_by_profilname.mean())[:5])"
   ]
  },
  {
   "cell_type": "markdown",
   "metadata": {},
   "source": [
    "### Top 10 usuarios con mas reseñas"
   ]
  },
  {
   "cell_type": "code",
   "execution_count": 4,
   "metadata": {
    "scrolled": true
   },
   "outputs": [
    {
     "name": "stdout",
     "output_type": "stream",
     "text": [
      "review_profilename\n",
      "northyorksammy    5817\n",
      "BuckeyeNation     4661\n",
      "mikesgroove       4617\n",
      "Thorpe429         3518\n",
      "womencantsail     3497\n",
      "NeroFiddled       3488\n",
      "ChainGangGuy      3471\n",
      "brentk56          3357\n",
      "Phyl21ca          3179\n",
      "WesWes            3168\n",
      "dtype: int64\n"
     ]
    }
   ],
   "source": [
    "print(review_by_profilname.head(10))"
   ]
  },
  {
   "cell_type": "markdown",
   "metadata": {},
   "source": [
    "### Histograma de reseñas"
   ]
  },
  {
   "cell_type": "code",
   "execution_count": 5,
   "metadata": {},
   "outputs": [
    {
     "data": {
      "image/png": "[encoded data removed]",
      "text/plain": [
       "<Figure size 432x288 with 1 Axes>"
      ]
     },
     "metadata": {
      "needs_background": "light"
     },
     "output_type": "display_data"
    }
   ],
   "source": [
    "plt.hist(review_by_profilname, bins= 50)\n",
    "\n",
    "plt.yscale(\"log\")\n",
    "plt.show()"
   ]
  },
  {
   "cell_type": "code",
   "execution_count": 8,
   "metadata": {},
   "outputs": [
    {
     "data": {
      "text/plain": [
       "3127"
      ]
     },
     "execution_count": 8,
     "metadata": {},
     "output_type": "execute_result"
    }
   ],
   "source": [
    "len(review_by_profilname[review_by_profilname > 100])"
   ]
  },
  {
   "cell_type": "code",
   "execution_count": 36,
   "metadata": {},
   "outputs": [
    {
     "data": {
      "text/plain": [
       "array(['Hefeweizen', 'English Strong Ale', 'Foreign / Export Stout',\n",
       "       'German Pilsener', 'American Double / Imperial IPA',\n",
       "       'Herbed / Spiced Beer', 'Light Lager', 'Oatmeal Stout',\n",
       "       'American Pale Lager', 'Rauchbier', 'American Pale Ale (APA)',\n",
       "       'American Porter', 'Belgian Strong Dark Ale', 'American IPA',\n",
       "       'American Stout', 'Russian Imperial Stout',\n",
       "       'American Amber / Red Ale', 'American Strong Ale',\n",
       "       'Märzen / Oktoberfest', 'American Adjunct Lager',\n",
       "       'American Blonde Ale', 'Euro Pale Lager', 'English Brown Ale',\n",
       "       'Scotch Ale / Wee Heavy', 'Fruit / Vegetable Beer',\n",
       "       'American Double / Imperial Stout', 'Belgian Pale Ale',\n",
       "       'English Bitter', 'English Porter', 'Irish Dry Stout',\n",
       "       'American Barleywine', 'Belgian Strong Pale Ale', 'Doppelbock',\n",
       "       'Maibock / Helles Bock', 'Pumpkin Ale',\n",
       "       'Dortmunder / Export Lager', 'Euro Strong Lager',\n",
       "       'Euro Dark Lager', 'Low Alcohol Beer', 'Weizenbock',\n",
       "       'Extra Special / Strong Bitter (ESB)', 'Bock',\n",
       "       'English India Pale Ale (IPA)', 'Altbier', 'Kölsch',\n",
       "       'Munich Dunkel Lager', 'Rye Beer', 'American Pale Wheat Ale',\n",
       "       'Milk / Sweet Stout', 'Schwarzbier', 'Vienna Lager',\n",
       "       'American Amber / Red Lager', 'Scottish Ale', 'Witbier',\n",
       "       'American Black Ale', 'Saison / Farmhouse Ale',\n",
       "       'English Barleywine', 'English Dark Mild Ale',\n",
       "       'California Common / Steam Beer', 'Czech Pilsener',\n",
       "       'English Pale Ale', 'Belgian IPA', 'Tripel', 'Flanders Oud Bruin',\n",
       "       'American Brown Ale', 'Winter Warmer', 'Smoked Beer', 'Dubbel',\n",
       "       'Flanders Red Ale', 'Dunkelweizen', 'Roggenbier',\n",
       "       'Keller Bier / Zwickel Bier', 'Belgian Dark Ale', 'Bière de Garde',\n",
       "       'Japanese Rice Lager', 'Black & Tan', 'Irish Red Ale',\n",
       "       'Chile Beer', 'English Stout', 'Cream Ale', 'American Wild Ale',\n",
       "       'American Double / Imperial Pilsner',\n",
       "       'Scottish Gruit / Ancient Herbed Ale', 'Wheatwine',\n",
       "       'American Dark Wheat Ale', 'American Malt Liquor', 'Baltic Porter',\n",
       "       'Munich Helles Lager', 'Kristalweizen', 'English Pale Mild Ale',\n",
       "       'Lambic - Fruit', 'Old Ale', 'Quadrupel (Quad)', 'Braggot',\n",
       "       'Lambic - Unblended', 'Eisbock', 'Berliner Weissbier', 'Kvass',\n",
       "       'Faro', 'Gueuze', 'Gose', 'Happoshu', 'Sahti',\n",
       "       'Bière de Champagne / Bière Brut'], dtype=object)"
      ]
     },
     "execution_count": 36,
     "metadata": {},
     "output_type": "execute_result"
    }
   ],
   "source": [
    "reviews['beer_style'].unique()"
   ]
  },
  {
   "cell_type": "markdown",
   "metadata": {},
   "source": [
    "### Top 20 cervezas mas populares."
   ]
  },
  {
   "cell_type": "code",
   "execution_count": 14,
   "metadata": {
    "scrolled": false
   },
   "outputs": [
    {
     "data": {
      "text/plain": [
       "beer_name\n",
       "90 Minute IPA                                 3290\n",
       "India Pale Ale                                3130\n",
       "Old Rasputin Russian Imperial Stout           3111\n",
       "Sierra Nevada Celebration Ale                 3000\n",
       "Two Hearted Ale                               2728\n",
       "Stone Ruination IPA                           2704\n",
       "Arrogant Bastard Ale                          2704\n",
       "Sierra Nevada Pale Ale                        2587\n",
       "Stone IPA (India Pale Ale)                    2575\n",
       "Pliny The Elder                               2527\n",
       "Founders Breakfast Stout                      2502\n",
       "Pale Ale                                      2500\n",
       "Sierra Nevada Bigfoot Barleywine Style Ale    2492\n",
       "La Fin Du Monde                               2483\n",
       "60 Minute IPA                                 2475\n",
       "Storm King Stout                              2452\n",
       "Duvel                                         2450\n",
       "Brooklyn Black Chocolate Stout                2447\n",
       "Bell's Hopslam Ale                            2443\n",
       "Samuel Adams Boston Lager                     2418\n",
       "dtype: int64"
      ]
     },
     "metadata": {},
     "output_type": "display_data"
    }
   ],
   "source": [
    "top_beers_per_review = reviews.groupby('beer_name').size().sort_values(ascending=False)\n",
    "display(top_beers_per_review.head(20))"
   ]
  },
  {
   "cell_type": "code",
   "execution_count": 16,
   "metadata": {
    "scrolled": true
   },
   "outputs": [
    {
     "data": {
      "image/png": "[encoded data removed]",
      "text/plain": [
       "<Figure size 432x288 with 1 Axes>"
      ]
     },
     "metadata": {
      "needs_background": "light"
     },
     "output_type": "display_data"
    }
   ],
   "source": [
    "plt.hist(top_beers_per_review, bins= 100)\n",
    "plt.yscale(\"log\")\n",
    "plt.show()"
   ]
  },
  {
   "cell_type": "code",
   "execution_count": 43,
   "metadata": {},
   "outputs": [
    {
     "name": "stdout",
     "output_type": "stream",
     "text": [
      "3.0\n",
      "27.905341470707214\n"
     ]
    }
   ],
   "source": [
    "print(top_beers_per_review.median())\n",
    "print(top_beers_per_review.mean())"
   ]
  },
  {
   "cell_type": "markdown",
   "metadata": {},
   "source": [
    "### Top 20 estilos de cerveza más populares"
   ]
  },
  {
   "cell_type": "code",
   "execution_count": 6,
   "metadata": {},
   "outputs": [
    {
     "data": {
      "text/plain": [
       "beer_style\n",
       "American IPA                        117586\n",
       "American Double / Imperial IPA       85977\n",
       "American Pale Ale (APA)              63469\n",
       "Russian Imperial Stout               54129\n",
       "American Double / Imperial Stout     50705\n",
       "American Porter                      50477\n",
       "American Amber / Red Ale             45751\n",
       "Belgian Strong Dark Ale              37743\n",
       "Fruit / Vegetable Beer               33861\n",
       "American Strong Ale                  31945\n",
       "Belgian Strong Pale Ale              31490\n",
       "Saison / Farmhouse Ale               31480\n",
       "American Adjunct Lager               30749\n",
       "Tripel                               30328\n",
       "Witbier                              30140\n",
       "Hefeweizen                           27908\n",
       "American Barleywine                  26728\n",
       "American Brown Ale                   25297\n",
       "American Stout                       24538\n",
       "American Pale Wheat Ale              24204\n",
       "dtype: int64"
      ]
     },
     "metadata": {},
     "output_type": "display_data"
    },
    {
     "name": "stdout",
     "output_type": "stream",
     "text": [
      "104\n"
     ]
    }
   ],
   "source": [
    "top_beers_per_review = reviews.groupby('beer_style').size().sort_values(ascending=False)\n",
    "display(top_beers_per_review.head(20))\n",
    "print(len(top_beers_per_review))\n",
    "\n",
    "top_beers_per_review.to_csv('review_style.csv')"
   ]
  },
  {
   "cell_type": "markdown",
   "metadata": {},
   "source": [
    "### Usuario: northyorksammy\n",
    "\n",
    "Como hemos visto anteriormente el usuario \"northyorksammy\" es quien mas reseñas ha proporcionado, analicemos sus datos para ver que podemos averiguar."
   ]
  },
  {
   "cell_type": "code",
   "execution_count": 13,
   "metadata": {
    "scrolled": true
   },
   "outputs": [
    {
     "data": {
      "text/html": [
       "<div>\n",
       "<style scoped>\n",
       "    .dataframe tbody tr th:only-of-type {\n",
       "        vertical-align: middle;\n",
       "    }\n",
       "\n",
       "    .dataframe tbody tr th {\n",
       "        vertical-align: top;\n",
       "    }\n",
       "\n",
       "    .dataframe thead th {\n",
       "        text-align: right;\n",
       "    }\n",
       "</style>\n",
       "<table border=\"1\" class=\"dataframe\">\n",
       "  <thead>\n",
       "    <tr style=\"text-align: right;\">\n",
       "      <th></th>\n",
       "      <th>brewery_id</th>\n",
       "      <th>brewery_name</th>\n",
       "      <th>review_time</th>\n",
       "      <th>review_overall</th>\n",
       "      <th>review_aroma</th>\n",
       "      <th>review_appearance</th>\n",
       "      <th>review_profilename</th>\n",
       "      <th>beer_style</th>\n",
       "      <th>review_palate</th>\n",
       "      <th>review_taste</th>\n",
       "      <th>beer_name</th>\n",
       "      <th>beer_abv</th>\n",
       "      <th>beer_beerid</th>\n",
       "    </tr>\n",
       "  </thead>\n",
       "  <tbody>\n",
       "    <tr>\n",
       "      <th>46</th>\n",
       "      <td>1075</td>\n",
       "      <td>Caldera Brewing Company</td>\n",
       "      <td>1302401846</td>\n",
       "      <td>4.0</td>\n",
       "      <td>4.0</td>\n",
       "      <td>3.5</td>\n",
       "      <td>northyorksammy</td>\n",
       "      <td>Rauchbier</td>\n",
       "      <td>4.0</td>\n",
       "      <td>4.0</td>\n",
       "      <td>Rauch Ür Bock</td>\n",
       "      <td>7.4</td>\n",
       "      <td>58046</td>\n",
       "    </tr>\n",
       "    <tr>\n",
       "      <th>374</th>\n",
       "      <td>1075</td>\n",
       "      <td>Caldera Brewing Company</td>\n",
       "      <td>1286137884</td>\n",
       "      <td>3.5</td>\n",
       "      <td>3.5</td>\n",
       "      <td>3.5</td>\n",
       "      <td>northyorksammy</td>\n",
       "      <td>American IPA</td>\n",
       "      <td>3.5</td>\n",
       "      <td>3.5</td>\n",
       "      <td>Caldera IPA</td>\n",
       "      <td>6.1</td>\n",
       "      <td>10784</td>\n",
       "    </tr>\n",
       "    <tr>\n",
       "      <th>1499</th>\n",
       "      <td>163</td>\n",
       "      <td>Amstel Brouwerij B. V.</td>\n",
       "      <td>1221688593</td>\n",
       "      <td>1.0</td>\n",
       "      <td>3.0</td>\n",
       "      <td>3.0</td>\n",
       "      <td>northyorksammy</td>\n",
       "      <td>Euro Pale Lager</td>\n",
       "      <td>1.5</td>\n",
       "      <td>1.5</td>\n",
       "      <td>Amstel Lager</td>\n",
       "      <td>5.0</td>\n",
       "      <td>1414</td>\n",
       "    </tr>\n",
       "    <tr>\n",
       "      <th>1789</th>\n",
       "      <td>850</td>\n",
       "      <td>Moon River Brewing Company</td>\n",
       "      <td>1202616505</td>\n",
       "      <td>2.5</td>\n",
       "      <td>3.0</td>\n",
       "      <td>4.0</td>\n",
       "      <td>northyorksammy</td>\n",
       "      <td>Witbier</td>\n",
       "      <td>4.0</td>\n",
       "      <td>3.5</td>\n",
       "      <td>Wild Wacky Wit</td>\n",
       "      <td>4.8</td>\n",
       "      <td>19558</td>\n",
       "    </tr>\n",
       "    <tr>\n",
       "      <th>1836</th>\n",
       "      <td>850</td>\n",
       "      <td>Moon River Brewing Company</td>\n",
       "      <td>1202617946</td>\n",
       "      <td>3.5</td>\n",
       "      <td>4.0</td>\n",
       "      <td>4.0</td>\n",
       "      <td>northyorksammy</td>\n",
       "      <td>American Porter</td>\n",
       "      <td>3.5</td>\n",
       "      <td>3.5</td>\n",
       "      <td>The Captain's Porter</td>\n",
       "      <td>6.0</td>\n",
       "      <td>2780</td>\n",
       "    </tr>\n",
       "  </tbody>\n",
       "</table>\n",
       "</div>"
      ],
      "text/plain": [
       "      brewery_id                brewery_name  review_time  review_overall  \\\n",
       "46          1075     Caldera Brewing Company   1302401846             4.0   \n",
       "374         1075     Caldera Brewing Company   1286137884             3.5   \n",
       "1499         163      Amstel Brouwerij B. V.   1221688593             1.0   \n",
       "1789         850  Moon River Brewing Company   1202616505             2.5   \n",
       "1836         850  Moon River Brewing Company   1202617946             3.5   \n",
       "\n",
       "      review_aroma  review_appearance review_profilename       beer_style  \\\n",
       "46             4.0                3.5     northyorksammy        Rauchbier   \n",
       "374            3.5                3.5     northyorksammy     American IPA   \n",
       "1499           3.0                3.0     northyorksammy  Euro Pale Lager   \n",
       "1789           3.0                4.0     northyorksammy          Witbier   \n",
       "1836           4.0                4.0     northyorksammy  American Porter   \n",
       "\n",
       "      review_palate  review_taste             beer_name  beer_abv  beer_beerid  \n",
       "46              4.0           4.0         Rauch Ür Bock       7.4        58046  \n",
       "374             3.5           3.5           Caldera IPA       6.1        10784  \n",
       "1499            1.5           1.5          Amstel Lager       5.0         1414  \n",
       "1789            4.0           3.5        Wild Wacky Wit       4.8        19558  \n",
       "1836            3.5           3.5  The Captain's Porter       6.0         2780  "
      ]
     },
     "metadata": {},
     "output_type": "display_data"
    }
   ],
   "source": [
    "nys = reviews[reviews['review_profilename'] == 'northyorksammy']\n",
    "display(nys.head())"
   ]
  },
  {
   "cell_type": "code",
   "execution_count": 19,
   "metadata": {},
   "outputs": [
    {
     "name": "stdout",
     "output_type": "stream",
     "text": [
      "5817\n",
      "brewery_name\n",
      "Great Lakes Brewery         80\n",
      "Kuhnhenn Brewing Company    56\n",
      "Mikkeller ApS               53\n",
      "Cigar City Brewing          48\n",
      "Brasserie Dieu Du Ciel      46\n",
      "                            ..\n",
      "Hog's Back Brewery           1\n",
      "Browar Amber                 1\n",
      "Browar Fortuna               1\n",
      "Browary Warka Sp. z o.o.     1\n",
      "The Alchemist                1\n",
      "Length: 1053, dtype: int64\n",
      "beer_style\n",
      "American IPA                      382\n",
      "American Pale Ale (APA)           236\n",
      "American Double / Imperial IPA    234\n",
      "American Porter                   185\n",
      "Saison / Farmhouse Ale            181\n",
      "                                 ... \n",
      "American Malt Liquor                3\n",
      "Kvass                               2\n",
      "Japanese Rice Lager                 2\n",
      "Gose                                2\n",
      "Faro                                1\n",
      "Length: 103, dtype: int64\n",
      "3.6293622141997592\n"
     ]
    }
   ],
   "source": [
    "print(len(nys))\n",
    "print(nys.groupby('brewery_name').size().sort_values(ascending= False))\n",
    "print(nys.groupby('beer_style').size().sort_values(ascending= False))\n",
    "print(nys['review_overall'].mean())"
   ]
  },
  {
   "cell_type": "markdown",
   "metadata": {},
   "source": [
    "Ahora sabemos que northyorksammy ha calificado 5817 cervezas en 1053 cervecerías diferentes, conocemos su bares recurrentes y los estilos de cerveza que más frecuenta."
   ]
  },
  {
   "cell_type": "code",
   "execution_count": 9,
   "metadata": {},
   "outputs": [
    {
     "data": {
      "text/plain": [
       "style\n",
       "American IPA                       44719\n",
       "American Pale Ale (APA)            22159\n",
       "American Imperial IPA              18338\n",
       "Belgian Saison                     18167\n",
       "American Wild Ale                  12972\n",
       "                                   ...  \n",
       "Finnish Sahti                        123\n",
       "Japanese Happoshu                    123\n",
       "Bière de Champagne / Bière Brut      116\n",
       "Belgian Faro                          32\n",
       "Wild/Sour Beers                        4\n",
       "Length: 112, dtype: int64"
      ]
     },
     "metadata": {},
     "output_type": "display_data"
    },
    {
     "data": {
      "text/plain": [
       "beer_style\n",
       "American IPA                        117586\n",
       "American Double / Imperial IPA       85977\n",
       "American Pale Ale (APA)              63469\n",
       "Russian Imperial Stout               54129\n",
       "American Double / Imperial Stout     50705\n",
       "                                     ...  \n",
       "Gose                                   686\n",
       "Faro                                   609\n",
       "Roggenbier                             466\n",
       "Kvass                                  297\n",
       "Happoshu                               241\n",
       "Length: 104, dtype: int64"
      ]
     },
     "metadata": {},
     "output_type": "display_data"
    }
   ],
   "source": [
    "display(beers_per_style)\n",
    "display(top_beers_per_review)"
   ]
  },
  {
   "cell_type": "code",
   "execution_count": 13,
   "metadata": {
    "scrolled": true
   },
   "outputs": [
    {
     "data": {
      "text/html": [
       "<div>\n",
       "<style scoped>\n",
       "    .dataframe tbody tr th:only-of-type {\n",
       "        vertical-align: middle;\n",
       "    }\n",
       "\n",
       "    .dataframe tbody tr th {\n",
       "        vertical-align: top;\n",
       "    }\n",
       "\n",
       "    .dataframe thead th {\n",
       "        text-align: right;\n",
       "    }\n",
       "</style>\n",
       "<table border=\"1\" class=\"dataframe\">\n",
       "  <thead>\n",
       "    <tr style=\"text-align: right;\">\n",
       "      <th></th>\n",
       "      <th>American IPA</th>\n",
       "      <th>American Pale Ale (APA)</th>\n",
       "      <th>American Imperial IPA</th>\n",
       "      <th>Belgian Saison</th>\n",
       "      <th>American Wild Ale</th>\n",
       "      <th>American Imperial Stout</th>\n",
       "      <th>American Porter</th>\n",
       "      <th>American Amber / Red Ale</th>\n",
       "      <th>American Stout</th>\n",
       "      <th>Fruit and Field Beer</th>\n",
       "      <th>...</th>\n",
       "      <th>Keller Bier / Zwickel Bier</th>\n",
       "      <th>Black &amp; Tan</th>\n",
       "      <th>Kristalweizen</th>\n",
       "      <th>Lambic - Unblended</th>\n",
       "      <th>Sahti</th>\n",
       "      <th>Gose</th>\n",
       "      <th>Faro</th>\n",
       "      <th>Roggenbier</th>\n",
       "      <th>Kvass</th>\n",
       "      <th>Happoshu</th>\n",
       "    </tr>\n",
       "  </thead>\n",
       "  <tbody>\n",
       "    <tr>\n",
       "      <th>0</th>\n",
       "      <td>44719.0</td>\n",
       "      <td>22159.0</td>\n",
       "      <td>18338.0</td>\n",
       "      <td>18167.0</td>\n",
       "      <td>12972.0</td>\n",
       "      <td>11180.0</td>\n",
       "      <td>10168.0</td>\n",
       "      <td>9748.0</td>\n",
       "      <td>9103.0</td>\n",
       "      <td>7729.0</td>\n",
       "      <td>...</td>\n",
       "      <td>NaN</td>\n",
       "      <td>NaN</td>\n",
       "      <td>NaN</td>\n",
       "      <td>NaN</td>\n",
       "      <td>NaN</td>\n",
       "      <td>NaN</td>\n",
       "      <td>NaN</td>\n",
       "      <td>NaN</td>\n",
       "      <td>NaN</td>\n",
       "      <td>NaN</td>\n",
       "    </tr>\n",
       "    <tr>\n",
       "      <th>1</th>\n",
       "      <td>117586.0</td>\n",
       "      <td>63469.0</td>\n",
       "      <td>NaN</td>\n",
       "      <td>NaN</td>\n",
       "      <td>17794.0</td>\n",
       "      <td>NaN</td>\n",
       "      <td>50477.0</td>\n",
       "      <td>45751.0</td>\n",
       "      <td>24538.0</td>\n",
       "      <td>NaN</td>\n",
       "      <td>...</td>\n",
       "      <td>2591.0</td>\n",
       "      <td>2358.0</td>\n",
       "      <td>2204.0</td>\n",
       "      <td>1114.0</td>\n",
       "      <td>1061.0</td>\n",
       "      <td>686.0</td>\n",
       "      <td>609.0</td>\n",
       "      <td>466.0</td>\n",
       "      <td>297.0</td>\n",
       "      <td>241.0</td>\n",
       "    </tr>\n",
       "  </tbody>\n",
       "</table>\n",
       "<p>2 rows × 166 columns</p>\n",
       "</div>"
      ],
      "text/plain": [
       "   American IPA  American Pale Ale (APA)  American Imperial IPA  \\\n",
       "0       44719.0                  22159.0                18338.0   \n",
       "1      117586.0                  63469.0                    NaN   \n",
       "\n",
       "   Belgian Saison  American Wild Ale  American Imperial Stout  \\\n",
       "0         18167.0            12972.0                  11180.0   \n",
       "1             NaN            17794.0                      NaN   \n",
       "\n",
       "   American Porter  American Amber / Red Ale  American Stout  \\\n",
       "0          10168.0                    9748.0          9103.0   \n",
       "1          50477.0                   45751.0         24538.0   \n",
       "\n",
       "   Fruit and Field Beer  ...  Keller Bier / Zwickel Bier  Black & Tan  \\\n",
       "0                7729.0  ...                         NaN          NaN   \n",
       "1                   NaN  ...                      2591.0       2358.0   \n",
       "\n",
       "   Kristalweizen  Lambic - Unblended   Sahti   Gose   Faro  Roggenbier  Kvass  \\\n",
       "0            NaN                 NaN     NaN    NaN    NaN         NaN    NaN   \n",
       "1         2204.0              1114.0  1061.0  686.0  609.0       466.0  297.0   \n",
       "\n",
       "   Happoshu  \n",
       "0       NaN  \n",
       "1     241.0  \n",
       "\n",
       "[2 rows x 166 columns]"
      ]
     },
     "metadata": {},
     "output_type": "display_data"
    }
   ],
   "source": [
    "df = pd.DataFrame([beers_per_style, top_beers_per_review])\n",
    "display(df)\n",
    "\n",
    "df.to_csv('style_duplicates.csv')"
   ]
  }
 ],
 "metadata": {
  "kernelspec": {
   "display_name": "Python 3",
   "language": "python",
   "name": "python3"
  },
  "language_info": {
   "codemirror_mode": {
    "name": "ipython",
    "version": 3
   },
   "file_extension": ".py",
   "mimetype": "text/x-python",
   "name": "python",
   "nbconvert_exporter": "python",
   "pygments_lexer": "ipython3",
   "version": "3.8.3"
  }
 },
 "nbformat": 4,
 "nbformat_minor": 4
}

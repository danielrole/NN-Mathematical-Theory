{
  "nbformat": 4,
  "nbformat_minor": 0,
  "metadata": {
    "colab": {
      "name": "02 Obtencion_de_Datos_2010_2016",
      "provenance": [],
      "collapsed_sections": [
        "HAczAyDrNADr",
        "E1Ci7N4ZMoJo",
        "ikj-cnwGMxwk",
        "BRvSVAa5M5VX",
        "DdQYgiA_RI3O"
      ]
    },
    "kernelspec": {
      "name": "python3",
      "display_name": "Python 3"
    },
    "language_info": {
      "name": "python"
    }
  },
  "cells": [
    {
      "cell_type": "markdown",
      "source": [
        "PVLIB Python es una herramienta creada por la comunidad, que proporciona un conjunto de funciones y clases para simular el rendimiento de los sistemas de energía fotovoltaica."
      ],
      "metadata": {
        "id": "ysC8p8Y-8L4O"
      }
    },
    {
      "cell_type": "markdown",
      "source": [
        "# Requerimentos"
      ],
      "metadata": {
        "id": "HAczAyDrNADr"
      }
    },
    {
      "cell_type": "code",
      "source": [
        "## en caso de no tener instalados, correr el siguiente codigo:\n",
        "\n",
        "################## PVLIB ##################\n",
        "#---------------------------------------------\n",
        "!pip install pvlib\n",
        "#---------------------------------------------"
      ],
      "metadata": {
        "id": "8vIapwpMkpoV",
        "colab": {
          "base_uri": "https://localhost:8080/"
        },
        "outputId": "1935b1ea-64f8-4083-907e-71633eee56d0"
      },
      "execution_count": null,
      "outputs": [
        {
          "output_type": "stream",
          "name": "stdout",
          "text": [
            "Collecting pvlib\n",
            "  Downloading pvlib-0.9.1-py3-none-any.whl (27.6 MB)\n",
            "\u001b[K     |████████████████████████████████| 27.6 MB 20.0 MB/s \n",
            "\u001b[?25hRequirement already satisfied: numpy>=1.16.0 in /usr/local/lib/python3.7/dist-packages (from pvlib) (1.21.6)\n",
            "Requirement already satisfied: pandas>=0.22.0 in /usr/local/lib/python3.7/dist-packages (from pvlib) (1.3.5)\n",
            "Requirement already satisfied: pytz in /usr/local/lib/python3.7/dist-packages (from pvlib) (2022.1)\n",
            "Requirement already satisfied: requests in /usr/local/lib/python3.7/dist-packages (from pvlib) (2.23.0)\n",
            "Requirement already satisfied: scipy>=1.2.0 in /usr/local/lib/python3.7/dist-packages (from pvlib) (1.4.1)\n",
            "Requirement already satisfied: h5py in /usr/local/lib/python3.7/dist-packages (from pvlib) (3.1.0)\n",
            "Requirement already satisfied: python-dateutil>=2.7.3 in /usr/local/lib/python3.7/dist-packages (from pandas>=0.22.0->pvlib) (2.8.2)\n",
            "Requirement already satisfied: six>=1.5 in /usr/local/lib/python3.7/dist-packages (from python-dateutil>=2.7.3->pandas>=0.22.0->pvlib) (1.15.0)\n",
            "Requirement already satisfied: cached-property in /usr/local/lib/python3.7/dist-packages (from h5py->pvlib) (1.5.2)\n",
            "Requirement already satisfied: certifi>=2017.4.17 in /usr/local/lib/python3.7/dist-packages (from requests->pvlib) (2021.10.8)\n",
            "Requirement already satisfied: idna<3,>=2.5 in /usr/local/lib/python3.7/dist-packages (from requests->pvlib) (2.10)\n",
            "Requirement already satisfied: chardet<4,>=3.0.2 in /usr/local/lib/python3.7/dist-packages (from requests->pvlib) (3.0.4)\n",
            "Requirement already satisfied: urllib3!=1.25.0,!=1.25.1,<1.26,>=1.21.1 in /usr/local/lib/python3.7/dist-packages (from requests->pvlib) (1.24.3)\n",
            "Installing collected packages: pvlib\n",
            "Successfully installed pvlib-0.9.1\n"
          ]
        }
      ]
    },
    {
      "cell_type": "code",
      "execution_count": null,
      "metadata": {
        "id": "CNXbxOQRpGeC"
      },
      "outputs": [],
      "source": [
        "# pandas es una libreria para manipulacion de datos\n",
        "import pandas as pd\n",
        "\n",
        "# pvlib es la libreria requerida para extraer datos\n",
        "import pvlib\n",
        "\n",
        "# numpy se utiliza para operaciones aritmeticas\n",
        "import numpy as np \n",
        "\n",
        "# librería requerida para escribir archivos pickle\n",
        "import pickle\n",
        "\n",
        "# Librerías de visualización de datos\n",
        "import matplotlib.pyplot as plt\n",
        "import seaborn as sns\n",
        "\n",
        "# Librería para estandarizar\n",
        "from sklearn.preprocessing import StandardScaler\n",
        "from numpy.core.multiarray import concatenate"
      ]
    },
    {
      "cell_type": "code",
      "source": [
        "# Conectar con google drive (Es necesario tener la carpeta compartida \"PV\")\n",
        "from google.colab import drive\n",
        "drive.mount('/content/drive')"
      ],
      "metadata": {
        "colab": {
          "base_uri": "https://localhost:8080/"
        },
        "id": "9uQzUuAePgLv",
        "outputId": "44506bf1-2cdf-4849-b911-104542fe730d"
      },
      "execution_count": null,
      "outputs": [
        {
          "output_type": "stream",
          "name": "stdout",
          "text": [
            "Drive already mounted at /content/drive; to attempt to forcibly remount, call drive.mount(\"/content/drive\", force_remount=True).\n"
          ]
        }
      ]
    },
    {
      "cell_type": "markdown",
      "source": [
        "# Importación de datos\n"
      ],
      "metadata": {
        "id": "E1Ci7N4ZMoJo"
      }
    },
    {
      "cell_type": "markdown",
      "source": [
        "## Plantas de producción eléctrica"
      ],
      "metadata": {
        "id": "imWnBaDgoHnO"
      }
    },
    {
      "cell_type": "code",
      "source": [
        "PV = pd.read_csv('/content/drive/Shareddrives/PV/data/CELLCODE_PV_count.csv', index_col = 0) "
      ],
      "metadata": {
        "id": "x_VyQOCiUgFL"
      },
      "execution_count": null,
      "outputs": []
    },
    {
      "cell_type": "code",
      "source": [
        "PV.head(2)"
      ],
      "metadata": {
        "colab": {
          "base_uri": "https://localhost:8080/"
        },
        "id": "ZzFbQbgLVqcJ",
        "outputId": "fbd876ec-7b5a-4abb-bd4a-9cab42bed1c4"
      },
      "execution_count": null,
      "outputs": [
        {
          "output_type": "execute_result",
          "data": {
            "text/plain": [
              "        CELLCODE  Ph_count       N       E        Lat       Lng\n",
              "0  1kmE4009N2567       7.0  2567.5  4009.5  46.144585  5.970790\n",
              "1  1kmE4009N2568       9.0  2568.5  4009.5  46.153577  5.970117"
            ],
            "text/html": [
              "\n",
              "  <div id=\"df-251b4aec-3778-47bd-a146-b1f740130a79\">\n",
              "    <div class=\"colab-df-container\">\n",
              "      <div>\n",
              "<style scoped>\n",
              "    .dataframe tbody tr th:only-of-type {\n",
              "        vertical-align: middle;\n",
              "    }\n",
              "\n",
              "    .dataframe tbody tr th {\n",
              "        vertical-align: top;\n",
              "    }\n",
              "\n",
              "    .dataframe thead th {\n",
              "        text-align: right;\n",
              "    }\n",
              "</style>\n",
              "<table border=\"1\" class=\"dataframe\">\n",
              "  <thead>\n",
              "    <tr style=\"text-align: right;\">\n",
              "      <th></th>\n",
              "      <th>CELLCODE</th>\n",
              "      <th>Ph_count</th>\n",
              "      <th>N</th>\n",
              "      <th>E</th>\n",
              "      <th>Lat</th>\n",
              "      <th>Lng</th>\n",
              "    </tr>\n",
              "  </thead>\n",
              "  <tbody>\n",
              "    <tr>\n",
              "      <th>0</th>\n",
              "      <td>1kmE4009N2567</td>\n",
              "      <td>7.0</td>\n",
              "      <td>2567.5</td>\n",
              "      <td>4009.5</td>\n",
              "      <td>46.144585</td>\n",
              "      <td>5.970790</td>\n",
              "    </tr>\n",
              "    <tr>\n",
              "      <th>1</th>\n",
              "      <td>1kmE4009N2568</td>\n",
              "      <td>9.0</td>\n",
              "      <td>2568.5</td>\n",
              "      <td>4009.5</td>\n",
              "      <td>46.153577</td>\n",
              "      <td>5.970117</td>\n",
              "    </tr>\n",
              "  </tbody>\n",
              "</table>\n",
              "</div>\n",
              "      <button class=\"colab-df-convert\" onclick=\"convertToInteractive('df-251b4aec-3778-47bd-a146-b1f740130a79')\"\n",
              "              title=\"Convert this dataframe to an interactive table.\"\n",
              "              style=\"display:none;\">\n",
              "        \n",
              "  <svg xmlns=\"http://www.w3.org/2000/svg\" height=\"24px\"viewBox=\"0 0 24 24\"\n",
              "       width=\"24px\">\n",
              "    <path d=\"M0 0h24v24H0V0z\" fill=\"none\"/>\n",
              "    <path d=\"M18.56 5.44l.94 2.06.94-2.06 2.06-.94-2.06-.94-.94-2.06-.94 2.06-2.06.94zm-11 1L8.5 8.5l.94-2.06 2.06-.94-2.06-.94L8.5 2.5l-.94 2.06-2.06.94zm10 10l.94 2.06.94-2.06 2.06-.94-2.06-.94-.94-2.06-.94 2.06-2.06.94z\"/><path d=\"M17.41 7.96l-1.37-1.37c-.4-.4-.92-.59-1.43-.59-.52 0-1.04.2-1.43.59L10.3 9.45l-7.72 7.72c-.78.78-.78 2.05 0 2.83L4 21.41c.39.39.9.59 1.41.59.51 0 1.02-.2 1.41-.59l7.78-7.78 2.81-2.81c.8-.78.8-2.07 0-2.86zM5.41 20L4 18.59l7.72-7.72 1.47 1.35L5.41 20z\"/>\n",
              "  </svg>\n",
              "      </button>\n",
              "      \n",
              "  <style>\n",
              "    .colab-df-container {\n",
              "      display:flex;\n",
              "      flex-wrap:wrap;\n",
              "      gap: 12px;\n",
              "    }\n",
              "\n",
              "    .colab-df-convert {\n",
              "      background-color: #E8F0FE;\n",
              "      border: none;\n",
              "      border-radius: 50%;\n",
              "      cursor: pointer;\n",
              "      display: none;\n",
              "      fill: #1967D2;\n",
              "      height: 32px;\n",
              "      padding: 0 0 0 0;\n",
              "      width: 32px;\n",
              "    }\n",
              "\n",
              "    .colab-df-convert:hover {\n",
              "      background-color: #E2EBFA;\n",
              "      box-shadow: 0px 1px 2px rgba(60, 64, 67, 0.3), 0px 1px 3px 1px rgba(60, 64, 67, 0.15);\n",
              "      fill: #174EA6;\n",
              "    }\n",
              "\n",
              "    [theme=dark] .colab-df-convert {\n",
              "      background-color: #3B4455;\n",
              "      fill: #D2E3FC;\n",
              "    }\n",
              "\n",
              "    [theme=dark] .colab-df-convert:hover {\n",
              "      background-color: #434B5C;\n",
              "      box-shadow: 0px 1px 3px 1px rgba(0, 0, 0, 0.15);\n",
              "      filter: drop-shadow(0px 1px 2px rgba(0, 0, 0, 0.3));\n",
              "      fill: #FFFFFF;\n",
              "    }\n",
              "  </style>\n",
              "\n",
              "      <script>\n",
              "        const buttonEl =\n",
              "          document.querySelector('#df-251b4aec-3778-47bd-a146-b1f740130a79 button.colab-df-convert');\n",
              "        buttonEl.style.display =\n",
              "          google.colab.kernel.accessAllowed ? 'block' : 'none';\n",
              "\n",
              "        async function convertToInteractive(key) {\n",
              "          const element = document.querySelector('#df-251b4aec-3778-47bd-a146-b1f740130a79');\n",
              "          const dataTable =\n",
              "            await google.colab.kernel.invokeFunction('convertToInteractive',\n",
              "                                                     [key], {});\n",
              "          if (!dataTable) return;\n",
              "\n",
              "          const docLinkHtml = 'Like what you see? Visit the ' +\n",
              "            '<a target=\"_blank\" href=https://colab.research.google.com/notebooks/data_table.ipynb>data table notebook</a>'\n",
              "            + ' to learn more about interactive tables.';\n",
              "          element.innerHTML = '';\n",
              "          dataTable['output_type'] = 'display_data';\n",
              "          await google.colab.output.renderOutput(dataTable, element);\n",
              "          const docLink = document.createElement('div');\n",
              "          docLink.innerHTML = docLinkHtml;\n",
              "          element.appendChild(docLink);\n",
              "        }\n",
              "      </script>\n",
              "    </div>\n",
              "  </div>\n",
              "  "
            ]
          },
          "metadata": {},
          "execution_count": 5
        }
      ]
    },
    {
      "cell_type": "markdown",
      "source": [
        "# Sampleo"
      ],
      "metadata": {
        "id": "dZGoZuX1nsQk"
      }
    },
    {
      "cell_type": "code",
      "source": [
        "def n1(x_1, x_2, y_1, y_2):\n",
        "    return abs(x_1 - y_1) + abs(x_2 - y_2)"
      ],
      "metadata": {
        "id": "WK6AMsqt29oF"
      },
      "execution_count": null,
      "outputs": []
    },
    {
      "cell_type": "code",
      "source": [
        "def get_n1_neighbors(index_val, df):\n",
        "  l = []\n",
        "  \n",
        "  for k in range(1,10):\n",
        "    ls = [n1(df.iloc[index_val].N , df.iloc[index_val].E, i[1].N , i[1].E) == k for i in df.iterrows()]\n",
        "    l.append(df[ls])\n",
        "  \n",
        "  return l"
      ],
      "metadata": {
        "id": "ygNsn4cC7S1d"
      },
      "execution_count": null,
      "outputs": []
    },
    {
      "cell_type": "code",
      "source": [
        "l = get_n1_neighbors(100, PV)"
      ],
      "metadata": {
        "id": "qUea90HhWvif"
      },
      "execution_count": null,
      "outputs": []
    },
    {
      "cell_type": "code",
      "source": [
        "from bokeh.palettes import Magma\n",
        "\n",
        "fig, ax = plt.subplots(figsize = (10,10))\n",
        "\n",
        "ax.scatter(PV.iloc[100].N , PV.iloc[100].E, color = 'b', marker = 'x')\n",
        "\n",
        "for i in range(9):\n",
        "  ax.scatter(l[i].N , l[i].E, color = Magma[11][i], marker = 'o')\n",
        "\n",
        "plt.axis('off')\n",
        "plt.show()"
      ],
      "metadata": {
        "colab": {
          "base_uri": "https://localhost:8080/",
          "height": 575
        },
        "id": "jVUUrRWw8Btq",
        "outputId": "7bde44d8-cb69-40e6-9d40-e4a43913ae71"
      },
      "execution_count": null,
      "outputs": [
        {
          "output_type": "display_data",
          "data": {
            "text/plain": [
              "<Figure size 720x720 with 1 Axes>"
            ],
            "image/png": "[encoded data removed]"
          },
          "metadata": {
            "needs_background": "light"
          }
        }
      ]
    },
    {
      "cell_type": "code",
      "source": [
        "df = pd.concat([l[0], l[1]])\n",
        "\n",
        "for i in l[2:]:\n",
        "  df = pd.concat([df, i], axis=0)"
      ],
      "metadata": {
        "id": "-Ddh-swBJKb0"
      },
      "execution_count": null,
      "outputs": []
    },
    {
      "cell_type": "code",
      "source": [
        "np.random.seed(42)\n",
        "sample = df.sample(20)"
      ],
      "metadata": {
        "id": "fyljYujjLH8j"
      },
      "execution_count": null,
      "outputs": []
    },
    {
      "cell_type": "code",
      "source": [
        "fig, ax = plt.subplots(figsize = (10,10))\n",
        "\n",
        "ax.scatter(sample.N, sample.E)\n",
        "\n",
        "plt.axis('off')\n",
        "plt.show()"
      ],
      "metadata": {
        "colab": {
          "base_uri": "https://localhost:8080/",
          "height": 575
        },
        "id": "fhE_8A0RJ57V",
        "outputId": "c5c780c2-9e12-4dd2-c9f4-d6d917c8b4c2"
      },
      "execution_count": null,
      "outputs": [
        {
          "output_type": "display_data",
          "data": {
            "text/plain": [
              "<Figure size 720x720 with 1 Axes>"
            ],
            "image/png": "[encoded data removed]"
          },
          "metadata": {
            "needs_background": "light"
          }
        }
      ]
    },
    {
      "cell_type": "code",
      "source": [
        "sample.head()"
      ],
      "metadata": {
        "colab": {
          "base_uri": "https://localhost:8080/",
          "height": 206
        },
        "id": "DCx5sq4FMHEE",
        "outputId": "1a7d70b6-d6e2-42e7-92cb-d0ee0ecfdc39"
      },
      "execution_count": null,
      "outputs": [
        {
          "output_type": "execute_result",
          "data": {
            "text/plain": [
              "          CELLCODE  Ph_count       N       E        Lat       Lng\n",
              "99   1kmE4021N2577      11.0  2577.5  4021.5  46.240256  6.119278\n",
              "93   1kmE4021N2571      10.0  2571.5  4021.5  46.186298  6.123170\n",
              "87   1kmE4020N2576      13.0  2576.5  4020.5  46.230792  6.106993\n",
              "101  1kmE4021N2581       5.0  2581.5  4021.5  46.276226  6.116678\n",
              "96   1kmE4021N2574      14.0  2574.5  4021.5  46.213277  6.121226"
            ],
            "text/html": [
              "\n",
              "  <div id=\"df-83ba6bbd-7fb3-4cde-8057-fd86b5642eaa\">\n",
              "    <div class=\"colab-df-container\">\n",
              "      <div>\n",
              "<style scoped>\n",
              "    .dataframe tbody tr th:only-of-type {\n",
              "        vertical-align: middle;\n",
              "    }\n",
              "\n",
              "    .dataframe tbody tr th {\n",
              "        vertical-align: top;\n",
              "    }\n",
              "\n",
              "    .dataframe thead th {\n",
              "        text-align: right;\n",
              "    }\n",
              "</style>\n",
              "<table border=\"1\" class=\"dataframe\">\n",
              "  <thead>\n",
              "    <tr style=\"text-align: right;\">\n",
              "      <th></th>\n",
              "      <th>CELLCODE</th>\n",
              "      <th>Ph_count</th>\n",
              "      <th>N</th>\n",
              "      <th>E</th>\n",
              "      <th>Lat</th>\n",
              "      <th>Lng</th>\n",
              "    </tr>\n",
              "  </thead>\n",
              "  <tbody>\n",
              "    <tr>\n",
              "      <th>99</th>\n",
              "      <td>1kmE4021N2577</td>\n",
              "      <td>11.0</td>\n",
              "      <td>2577.5</td>\n",
              "      <td>4021.5</td>\n",
              "      <td>46.240256</td>\n",
              "      <td>6.119278</td>\n",
              "    </tr>\n",
              "    <tr>\n",
              "      <th>93</th>\n",
              "      <td>1kmE4021N2571</td>\n",
              "      <td>10.0</td>\n",
              "      <td>2571.5</td>\n",
              "      <td>4021.5</td>\n",
              "      <td>46.186298</td>\n",
              "      <td>6.123170</td>\n",
              "    </tr>\n",
              "    <tr>\n",
              "      <th>87</th>\n",
              "      <td>1kmE4020N2576</td>\n",
              "      <td>13.0</td>\n",
              "      <td>2576.5</td>\n",
              "      <td>4020.5</td>\n",
              "      <td>46.230792</td>\n",
              "      <td>6.106993</td>\n",
              "    </tr>\n",
              "    <tr>\n",
              "      <th>101</th>\n",
              "      <td>1kmE4021N2581</td>\n",
              "      <td>5.0</td>\n",
              "      <td>2581.5</td>\n",
              "      <td>4021.5</td>\n",
              "      <td>46.276226</td>\n",
              "      <td>6.116678</td>\n",
              "    </tr>\n",
              "    <tr>\n",
              "      <th>96</th>\n",
              "      <td>1kmE4021N2574</td>\n",
              "      <td>14.0</td>\n",
              "      <td>2574.5</td>\n",
              "      <td>4021.5</td>\n",
              "      <td>46.213277</td>\n",
              "      <td>6.121226</td>\n",
              "    </tr>\n",
              "  </tbody>\n",
              "</table>\n",
              "</div>\n",
              "      <button class=\"colab-df-convert\" onclick=\"convertToInteractive('df-83ba6bbd-7fb3-4cde-8057-fd86b5642eaa')\"\n",
              "              title=\"Convert this dataframe to an interactive table.\"\n",
              "              style=\"display:none;\">\n",
              "        \n",
              "  <svg xmlns=\"http://www.w3.org/2000/svg\" height=\"24px\"viewBox=\"0 0 24 24\"\n",
              "       width=\"24px\">\n",
              "    <path d=\"M0 0h24v24H0V0z\" fill=\"none\"/>\n",
              "    <path d=\"M18.56 5.44l.94 2.06.94-2.06 2.06-.94-2.06-.94-.94-2.06-.94 2.06-2.06.94zm-11 1L8.5 8.5l.94-2.06 2.06-.94-2.06-.94L8.5 2.5l-.94 2.06-2.06.94zm10 10l.94 2.06.94-2.06 2.06-.94-2.06-.94-.94-2.06-.94 2.06-2.06.94z\"/><path d=\"M17.41 7.96l-1.37-1.37c-.4-.4-.92-.59-1.43-.59-.52 0-1.04.2-1.43.59L10.3 9.45l-7.72 7.72c-.78.78-.78 2.05 0 2.83L4 21.41c.39.39.9.59 1.41.59.51 0 1.02-.2 1.41-.59l7.78-7.78 2.81-2.81c.8-.78.8-2.07 0-2.86zM5.41 20L4 18.59l7.72-7.72 1.47 1.35L5.41 20z\"/>\n",
              "  </svg>\n",
              "      </button>\n",
              "      \n",
              "  <style>\n",
              "    .colab-df-container {\n",
              "      display:flex;\n",
              "      flex-wrap:wrap;\n",
              "      gap: 12px;\n",
              "    }\n",
              "\n",
              "    .colab-df-convert {\n",
              "      background-color: #E8F0FE;\n",
              "      border: none;\n",
              "      border-radius: 50%;\n",
              "      cursor: pointer;\n",
              "      display: none;\n",
              "      fill: #1967D2;\n",
              "      height: 32px;\n",
              "      padding: 0 0 0 0;\n",
              "      width: 32px;\n",
              "    }\n",
              "\n",
              "    .colab-df-convert:hover {\n",
              "      background-color: #E2EBFA;\n",
              "      box-shadow: 0px 1px 2px rgba(60, 64, 67, 0.3), 0px 1px 3px 1px rgba(60, 64, 67, 0.15);\n",
              "      fill: #174EA6;\n",
              "    }\n",
              "\n",
              "    [theme=dark] .colab-df-convert {\n",
              "      background-color: #3B4455;\n",
              "      fill: #D2E3FC;\n",
              "    }\n",
              "\n",
              "    [theme=dark] .colab-df-convert:hover {\n",
              "      background-color: #434B5C;\n",
              "      box-shadow: 0px 1px 3px 1px rgba(0, 0, 0, 0.15);\n",
              "      filter: drop-shadow(0px 1px 2px rgba(0, 0, 0, 0.3));\n",
              "      fill: #FFFFFF;\n",
              "    }\n",
              "  </style>\n",
              "\n",
              "      <script>\n",
              "        const buttonEl =\n",
              "          document.querySelector('#df-83ba6bbd-7fb3-4cde-8057-fd86b5642eaa button.colab-df-convert');\n",
              "        buttonEl.style.display =\n",
              "          google.colab.kernel.accessAllowed ? 'block' : 'none';\n",
              "\n",
              "        async function convertToInteractive(key) {\n",
              "          const element = document.querySelector('#df-83ba6bbd-7fb3-4cde-8057-fd86b5642eaa');\n",
              "          const dataTable =\n",
              "            await google.colab.kernel.invokeFunction('convertToInteractive',\n",
              "                                                     [key], {});\n",
              "          if (!dataTable) return;\n",
              "\n",
              "          const docLinkHtml = 'Like what you see? Visit the ' +\n",
              "            '<a target=\"_blank\" href=https://colab.research.google.com/notebooks/data_table.ipynb>data table notebook</a>'\n",
              "            + ' to learn more about interactive tables.';\n",
              "          element.innerHTML = '';\n",
              "          dataTable['output_type'] = 'display_data';\n",
              "          await google.colab.output.renderOutput(dataTable, element);\n",
              "          const docLink = document.createElement('div');\n",
              "          docLink.innerHTML = docLinkHtml;\n",
              "          element.appendChild(docLink);\n",
              "        }\n",
              "      </script>\n",
              "    </div>\n",
              "  </div>\n",
              "  "
            ]
          },
          "metadata": {},
          "execution_count": 19
        }
      ]
    },
    {
      "cell_type": "markdown",
      "source": [
        "## Series de tiempo de la producción PV"
      ],
      "metadata": {
        "id": "y5_qbul5oVLg"
      }
    },
    {
      "cell_type": "code",
      "source": [
        "# Creamos una lista vacia\n",
        "df_list = []\n",
        "\n",
        "# Año de inicio\n",
        "ai = 2010\n",
        "# Año de termino (maximo 2016)\n",
        "at = 2016\n",
        "\n",
        "# Iteramos sobre cada elemento del dataframe\n",
        "  # la funcion iterrows nos permite iterar sobre renglones, devuelve dos elementos: [0] index, [1] dataframe \n",
        "  # Iniciamos el ciclo for\n",
        "for i in sample.iterrows():\n",
        "  # utilizamos la funcion get_pvgis_hourly de pvlib la cual nos regresa la serie de tiempo asociada a la producción PV \n",
        "  a = pvlib.iotools.get_pvgis_hourly(latitude = i[1].Lat, longitude =i[1].Lng, start=ai, end=at, pvcalculation=True, peakpower= 172.0)\n",
        "  # utilizamos la funcion append de la lista para guardar el data frame\n",
        "  df_list.append(a[0][['P','poa_direct','poa_sky_diffuse']])"
      ],
      "metadata": {
        "id": "k6KA6eX2rf_K"
      },
      "execution_count": null,
      "outputs": []
    },
    {
      "cell_type": "markdown",
      "source": [
        "el dataframe en este punto es la serie de tiempo por cada una de las estaciones, contiene 3 datos para cada intervalo de 1h estos son \"P\" Potencia PV, \"poa_direct\" es la irradianza directa y la \"poa_sky_diffuse\" es la irradinza horizontal"
      ],
      "metadata": {
        "id": "yrJN7RkwBlTA"
      }
    },
    {
      "cell_type": "code",
      "source": [
        "max_values = []\n",
        "\n",
        "for i in df_list:\n",
        "\n",
        "  i.P = i.P/ i.P.max()\n",
        "  i.poa_direct = i.poa_direct/ i.poa_direct.max()\n",
        "  i.poa_sky_diffuse = i.poa_sky_diffuse/ i.poa_sky_diffuse.max()\n",
        "\n",
        "  max_values.append(i.P.max())"
      ],
      "metadata": {
        "id": "dkRbEofABtxi",
        "colab": {
          "base_uri": "https://localhost:8080/"
        },
        "outputId": "e822248e-fbf9-41e7-f514-f51ef0688adc"
      },
      "execution_count": null,
      "outputs": [
        {
          "output_type": "stream",
          "name": "stderr",
          "text": [
            "/usr/local/lib/python3.7/dist-packages/pandas/core/generic.py:5516: SettingWithCopyWarning: \n",
            "A value is trying to be set on a copy of a slice from a DataFrame.\n",
            "Try using .loc[row_indexer,col_indexer] = value instead\n",
            "\n",
            "See the caveats in the documentation: https://pandas.pydata.org/pandas-docs/stable/user_guide/indexing.html#returning-a-view-versus-a-copy\n",
            "  self[name] = value\n"
          ]
        }
      ]
    },
    {
      "cell_type": "code",
      "source": [
        "df_list[1].iloc[12]"
      ],
      "metadata": {
        "colab": {
          "base_uri": "https://localhost:8080/"
        },
        "id": "zL4hg9HEllk3",
        "outputId": "eebe0740-4c1f-45c8-b257-adf95eea7c59"
      },
      "execution_count": null,
      "outputs": [
        {
          "output_type": "execute_result",
          "data": {
            "text/plain": [
              "P                  0.088404\n",
              "poa_direct         0.000000\n",
              "poa_sky_diffuse    0.207792\n",
              "Name: 2010-01-01 12:10:00+00:00, dtype: float64"
            ]
          },
          "metadata": {},
          "execution_count": 22
        }
      ]
    },
    {
      "cell_type": "markdown",
      "source": [
        "# Manipulación de Datos"
      ],
      "metadata": {
        "id": "ikj-cnwGMxwk"
      }
    },
    {
      "cell_type": "code",
      "source": [
        "# Guardamos los nombres de las estaciones en un array\n",
        "stations = sample.index.values\n",
        "\n",
        "display(stations)"
      ],
      "metadata": {
        "id": "Pm7wJJVQxD0h",
        "colab": {
          "base_uri": "https://localhost:8080/"
        },
        "outputId": "e3e8dbe3-e2e0-4479-b924-8dd1b61d4b78"
      },
      "execution_count": null,
      "outputs": [
        {
          "output_type": "display_data",
          "data": {
            "text/plain": [
              "array([ 99,  93,  87, 101,  96, 110, 148,  53, 114, 210,  73, 146, 134,\n",
              "        52, 102, 150, 252,  94, 165, 111])"
            ]
          },
          "metadata": {}
        }
      ]
    },
    {
      "cell_type": "code",
      "source": [
        "# calculamos el número de observaciones, estas observaciones son cada hora de cada dia por 6 años\n",
        "datos = len(df_list[0])\n",
        "\n",
        "# creamos un ciclo for para una de las estaciones\n",
        "for i in range(len(df_list)):\n",
        "  # creamos una nueva columna para con la información original de la estación\n",
        "  df_list[i][\"region\"] = [int(stations[i])]*datos\n",
        "  #df_list[i][\"Latitude\"] = [df[\"Latitude\"].iloc[i] for j in range(datos)]\n",
        "  #df_list[i][\"Longitude\"] = [df[\"Longitude\"].iloc[i] for j in range(datos)]\n",
        "  #df_list[i][\"Height\"] = [df['Station height m. a. sea level'].iloc[i] for j in range(datos)]\n",
        "  #df_list[i]['CoordinatesE'] = [df['CoordinatesE'].iloc[i] for j in range(datos)]\n",
        "  #df_list[i]['CoordinatesN'] = [df['CoordinatesN'].iloc[i] for j in range(datos)]"
      ],
      "metadata": {
        "colab": {
          "base_uri": "https://localhost:8080/"
        },
        "id": "DKQ6tJBVxuCR",
        "outputId": "38302848-2cba-48a2-a986-58c404ea5bfc"
      },
      "execution_count": null,
      "outputs": [
        {
          "output_type": "stream",
          "name": "stderr",
          "text": [
            "/usr/local/lib/python3.7/dist-packages/ipykernel_launcher.py:7: SettingWithCopyWarning: \n",
            "A value is trying to be set on a copy of a slice from a DataFrame.\n",
            "Try using .loc[row_indexer,col_indexer] = value instead\n",
            "\n",
            "See the caveats in the documentation: https://pandas.pydata.org/pandas-docs/stable/user_guide/indexing.html#returning-a-view-versus-a-copy\n",
            "  import sys\n"
          ]
        }
      ]
    },
    {
      "cell_type": "markdown",
      "source": [
        "observamos los nuevos elementos de la lista \"df_list\" cada uno es un dataframe correspondiente a una estación, con las observaciones hechas por hora durante 6 años"
      ],
      "metadata": {
        "id": "2el8MPQFEthn"
      }
    },
    {
      "cell_type": "code",
      "source": [
        "# Creamos una nueva lista vacía\n",
        "datos_finales = []\n",
        "\n",
        "# Empezamos a iterar sobre el numero de observaciones\n",
        "for i in range(len(df_list[0])):\n",
        "  # En cada iteración creamos una lista vacía\n",
        "  dat = []\n",
        "  # Creamos una segunda iteración sobre cada una de las estaciones\n",
        "  for j in range(len(df_list)):\n",
        "    # Apendamos a la lista vacía generada la observación i, de la estación j\n",
        "    dat.append(df_list[j].iloc[i])\n",
        "  # Concatenamos cada observación de cada una de las estaciones como un nuevo dataframe \n",
        "  df_dat = pd.concat(dat, axis = 1).T\n",
        "  # La columna region como int\n",
        "  df_dat['region'] = df_dat['region'].astype('int64')\n",
        "  # Appendamos cada dataframe a una nueva lista  \n",
        "  datos_finales.append(df_dat)"
      ],
      "metadata": {
        "id": "DouCrtsay4c9"
      },
      "execution_count": null,
      "outputs": []
    },
    {
      "cell_type": "markdown",
      "source": [
        "El resultado es una lista de DataFrames, donde cada uno contiene las observaciones."
      ],
      "metadata": {
        "id": "_BlKoEyJJ1bi"
      }
    },
    {
      "cell_type": "code",
      "source": [
        "datos_observados = []\n",
        "\n",
        "for i in datos_finales:\n",
        "  datos_observados.append((i.index[0] , i.reset_index().iloc[:,1:5].set_index('region')))"
      ],
      "metadata": {
        "id": "jz6lr4Pp2V_X"
      },
      "execution_count": null,
      "outputs": []
    },
    {
      "cell_type": "markdown",
      "source": [
        "El resultado es una lista de tuples, donde la primera entrada contiene el dato temporal y la segunda entrada la observación espacial"
      ],
      "metadata": {
        "id": "j0tYkgvl1Uwe"
      }
    },
    {
      "cell_type": "code",
      "source": [
        "scaler = StandardScaler()\n",
        "\n",
        "final_data = []\n",
        "\n",
        "for i in datos_observados:\n",
        "  data = i[1]\n",
        "  names = data.index\n",
        "  scaler.fit(data)\n",
        "  scaled = scaler.transform(data)\n",
        "  data_norm = pd.DataFrame(scaled)\n",
        "  \n",
        "  data_norm = data_norm.set_index(names)\n",
        "  data_norm.columns = list(data.columns)\n",
        "  final_data.append(( i[0], i[1] , data_norm))"
      ],
      "metadata": {
        "id": "8h3uDfeDIOVX"
      },
      "execution_count": null,
      "outputs": []
    },
    {
      "cell_type": "code",
      "source": [
        "f = [i for i in final_data if (i[0].year == 2011 and i[0].month == 5 )]\n",
        "\n",
        "f[12]"
      ],
      "metadata": {
        "colab": {
          "base_uri": "https://localhost:8080/"
        },
        "id": "_uLJyH1iMeuE",
        "outputId": "d78260dd-e69a-4e8f-a9ac-6efbc0c8a8ea"
      },
      "execution_count": null,
      "outputs": [
        {
          "output_type": "execute_result",
          "data": {
            "text/plain": [
              "(Timestamp('2011-05-01 12:10:00+0000', tz='UTC'),\n",
              "                P  poa_direct  poa_sky_diffuse\n",
              " region                                       \n",
              " 99      0.834438    0.678294         0.508658\n",
              " 93      0.800166    0.596576         0.610390\n",
              " 87      0.834438    0.678294         0.508658\n",
              " 101     0.868811    0.734851         0.404762\n",
              " 96      0.834443    0.678294         0.508658\n",
              " 110     0.839609    0.678294         0.508658\n",
              " 148     0.876083    0.787949         0.370933\n",
              " 53      0.866151    0.751941         0.407809\n",
              " 114     0.839658    0.678294         0.508658\n",
              " 210     0.876274    0.787949         0.370933\n",
              " 73      0.866132    0.751941         0.407809\n",
              " 146     0.885436    0.782847         0.351410\n",
              " 134     0.872025    0.734851         0.404762\n",
              " 52      0.866169    0.751941         0.407809\n",
              " 102     0.868831    0.734851         0.404762\n",
              " 150     0.876095    0.787949         0.370933\n",
              " 252     0.873803    0.758586         0.299296\n",
              " 94      0.800009    0.596576         0.610390\n",
              " 165     0.876051    0.787949         0.370933\n",
              " 111     0.839636    0.678294         0.508658,\n",
              "                P  poa_direct  poa_sky_diffuse\n",
              " region                                       \n",
              " 99     -0.823760   -0.726654         0.794343\n",
              " 93     -2.216204   -2.122786         2.011098\n",
              " 87     -0.823771   -0.726654         0.794343\n",
              " 101     0.572801    0.239620        -0.448301\n",
              " 96     -0.823547   -0.726654         0.794343\n",
              " 110    -0.613660   -0.726654         0.794343\n",
              " 148     0.868269    1.146780        -0.852913\n",
              " 53      0.464731    0.531589        -0.411855\n",
              " 114    -0.611660   -0.726654         0.794343\n",
              " 210     0.876026    1.146780        -0.852913\n",
              " 73      0.463937    0.531589        -0.411855\n",
              " 146     1.248243    1.059618        -1.086414\n",
              " 134     0.703396    0.239620        -0.448301\n",
              " 52      0.465432    0.531589        -0.411855\n",
              " 102     0.573626    0.239620        -0.448301\n",
              " 150     0.868757    1.146780        -0.852913\n",
              " 252     0.775603    0.645127        -1.709723\n",
              " 94     -2.222600   -2.122786         2.011098\n",
              " 165     0.866970    1.146780        -0.852913\n",
              " 111    -0.612586   -0.726654         0.794343)"
            ]
          },
          "metadata": {},
          "execution_count": 28
        }
      ]
    },
    {
      "cell_type": "markdown",
      "source": [
        "# Exportación de Datos"
      ],
      "metadata": {
        "id": "BRvSVAa5M5VX"
      }
    },
    {
      "cell_type": "markdown",
      "source": [
        "Pickle, el mejor formato para almacenar timeseries en Python, pickle se utiliza para serializar y des serializar una estructura de objeto python. cualquier objeto en python se puede decapar para que se pueda guardar en disco."
      ],
      "metadata": {
        "id": "L9ROZv29Nnxz"
      }
    },
    {
      "cell_type": "code",
      "source": [
        "# De esta manera al momento de importar datos el primer elemento sera el dataframe con la información espacial de las\n",
        "# plantas y el segundo serán las observaciones temporales\n",
        "\n",
        "F = (sample , final_data, max_values)"
      ],
      "metadata": {
        "id": "fX-3VcV66HLa"
      },
      "execution_count": null,
      "outputs": []
    },
    {
      "cell_type": "code",
      "source": [
        "# Escribimos el archivo pickle \n",
        "\n",
        "# Datos de entrada\n",
        "entrada = F\n",
        "\n",
        "# Nombre del archivo de salida\n",
        "salida = 'PV_2010_2016.pkl'\n",
        "\n",
        "with open(salida , 'wb') as file:\n",
        "  pickle.dump(entrada ,file)"
      ],
      "metadata": {
        "id": "rSkSTUn_3GuJ"
      },
      "execution_count": null,
      "outputs": []
    },
    {
      "cell_type": "code",
      "source": [
        "!cp PV_2010_2016.pkl \"drive/Shareddrives/PV/ESP/datos\""
      ],
      "metadata": {
        "id": "SQSRxq1o3fkI"
      },
      "execution_count": null,
      "outputs": []
    }
  ]
}
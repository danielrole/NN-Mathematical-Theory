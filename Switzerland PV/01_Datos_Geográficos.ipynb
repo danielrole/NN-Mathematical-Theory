{
  "nbformat": 4,
  "nbformat_minor": 0,
  "metadata": {
    "colab": {
      "name": "01 Datos Geográficos",
      "provenance": []
    },
    "kernelspec": {
      "name": "python3",
      "display_name": "Python 3"
    },
    "language_info": {
      "name": "python"
    }
  },
  "cells": [
    {
      "cell_type": "code",
      "execution_count": null,
      "metadata": {
        "colab": {
          "base_uri": "https://localhost:8080/"
        },
        "id": "-Lx5tGvjHuU6",
        "outputId": "f1707441-2497-4915-e4b3-052803f1d28c"
      },
      "outputs": [
        {
          "output_type": "stream",
          "name": "stdout",
          "text": [
            "✨🍰✨ Everything looks OK!\n",
            "Collecting package metadata (current_repodata.json): - \b\b\\ \b\b| \b\b/ \b\b- \b\b\\ \b\b| \b\b/ \b\b- \b\b\\ \b\b| \b\b/ \b\b- \b\b\\ \b\b| \b\b/ \b\b- \b\b\\ \b\b| \b\b/ \b\b- \b\b\\ \b\b| \b\b/ \b\b- \b\b\\ \b\b| \b\bdone\n",
            "Solving environment: - \b\b\\ \b\b| \b\b/ \b\b- \b\b\\ \b\b| \b\b/ \b\b- \b\b\\ \b\b| \b\b/ \b\b- \b\b\\ \b\b| \b\b/ \b\b- \b\b\\ \b\b| \b\b/ \b\b- \b\b\\ \b\b| \b\b/ \b\b- \b\b\\ \b\b| \b\b/ \b\b- \b\b\\ \b\b| \b\b/ \b\b- \b\b\\ \b\b| \b\b/ \b\b- \b\b\\ \b\b| \b\b/ \b\b- \b\b\\ \b\b| \b\b/ \b\b- \b\bdone\n",
            "\n",
            "# All requested packages already installed.\n",
            "\n"
          ]
        }
      ],
      "source": [
        "################ GEOPANDAS ################\n",
        "## primero hay que importar un condalab\n",
        "## posteriormente geopandas\n",
        "#---------------------------------------------\n",
        "\n",
        "!pip install -q condacolab\n",
        "import condacolab\n",
        "condacolab.install()\n",
        "\n",
        "!conda install geopandas\n",
        "#---------------------------------------------"
      ]
    },
    {
      "cell_type": "code",
      "source": [
        "# Librería geopandas\n",
        "import geopandas as gpd\n",
        "import matplotlib.pyplot as plt\n",
        "import pandas as pd"
      ],
      "metadata": {
        "id": "Bk3PurVVgBma"
      },
      "execution_count": null,
      "outputs": []
    },
    {
      "cell_type": "code",
      "source": [
        "# Conectar con google drive (Es necesario tener la carpeta compartida \"PV\")\n",
        "from google.colab import drive\n",
        "drive.mount('/content/drive')"
      ],
      "metadata": {
        "colab": {
          "base_uri": "https://localhost:8080/"
        },
        "id": "xVcR7u34kGT0",
        "outputId": "7092d211-46f4-47ee-a06c-f1629c38a36c"
      },
      "execution_count": null,
      "outputs": [
        {
          "output_type": "stream",
          "name": "stdout",
          "text": [
            "Mounted at /content/drive\n"
          ]
        }
      ]
    },
    {
      "cell_type": "code",
      "source": [
        "# Descargamos nuestros datos\n",
        "data = gpd.read_file('/content/drive/Shareddrives/PV/data/CA_GeoDataFrame.geojson')\n",
        "\n",
        "# Obtenemos los centroides\n",
        "data[\"centroid\"] = data.geometry.centroid\n",
        "data.head()"
      ],
      "metadata": {
        "colab": {
          "base_uri": "https://localhost:8080/",
          "height": 337
        },
        "id": "-uDkkBXQkNCc",
        "outputId": "b4e5c081-2302-45a2-f575-804198ed4e34"
      },
      "execution_count": null,
      "outputs": [
        {
          "output_type": "execute_result",
          "data": {
            "text/plain": [
              "        CELLCODE  Ph_count  Wi_count  Hy_count  Bi_count  Wa_count  Na_count  \\\n",
              "0  1kmE4009N2567       7.0       0.0       0.0       0.0       0.0       0.0   \n",
              "1  1kmE4009N2568       9.0       0.0       0.0       0.0       0.0       0.0   \n",
              "2  1kmE4010N2567       1.0       0.0       0.0       0.0       0.0       0.0   \n",
              "3  1kmE4010N2568       3.0       0.0       0.0       0.0       0.0       0.0   \n",
              "4  1kmE4010N2569       1.0       0.0       0.0       0.0       0.0       0.0   \n",
              "\n",
              "   Nu_count  Cr_count                                           geometry  \\\n",
              "0       0.0       0.0  POLYGON ((4009000.000 2567000.000, 4009000.000...   \n",
              "1       0.0       0.0  POLYGON ((4009000.000 2568000.000, 4009000.000...   \n",
              "2       0.0       0.0  POLYGON ((4010000.000 2567000.000, 4010000.000...   \n",
              "3       0.0       0.0  POLYGON ((4010000.000 2568000.000, 4010000.000...   \n",
              "4       0.0       0.0  POLYGON ((4010000.000 2569000.000, 4010000.000...   \n",
              "\n",
              "                          centroid  \n",
              "0  POINT (4009500.000 2567500.000)  \n",
              "1  POINT (4009500.000 2568500.000)  \n",
              "2  POINT (4010500.000 2567500.000)  \n",
              "3  POINT (4010500.000 2568500.000)  \n",
              "4  POINT (4010500.000 2569500.000)  "
            ],
            "text/html": [
              "\n",
              "  <div id=\"df-eb6f2228-7b7e-4f5a-bde3-8e305003491f\">\n",
              "    <div class=\"colab-df-container\">\n",
              "      <div>\n",
              "<style scoped>\n",
              "    .dataframe tbody tr th:only-of-type {\n",
              "        vertical-align: middle;\n",
              "    }\n",
              "\n",
              "    .dataframe tbody tr th {\n",
              "        vertical-align: top;\n",
              "    }\n",
              "\n",
              "    .dataframe thead th {\n",
              "        text-align: right;\n",
              "    }\n",
              "</style>\n",
              "<table border=\"1\" class=\"dataframe\">\n",
              "  <thead>\n",
              "    <tr style=\"text-align: right;\">\n",
              "      <th></th>\n",
              "      <th>CELLCODE</th>\n",
              "      <th>Ph_count</th>\n",
              "      <th>Wi_count</th>\n",
              "      <th>Hy_count</th>\n",
              "      <th>Bi_count</th>\n",
              "      <th>Wa_count</th>\n",
              "      <th>Na_count</th>\n",
              "      <th>Nu_count</th>\n",
              "      <th>Cr_count</th>\n",
              "      <th>geometry</th>\n",
              "      <th>centroid</th>\n",
              "    </tr>\n",
              "  </thead>\n",
              "  <tbody>\n",
              "    <tr>\n",
              "      <th>0</th>\n",
              "      <td>1kmE4009N2567</td>\n",
              "      <td>7.0</td>\n",
              "      <td>0.0</td>\n",
              "      <td>0.0</td>\n",
              "      <td>0.0</td>\n",
              "      <td>0.0</td>\n",
              "      <td>0.0</td>\n",
              "      <td>0.0</td>\n",
              "      <td>0.0</td>\n",
              "      <td>POLYGON ((4009000.000 2567000.000, 4009000.000...</td>\n",
              "      <td>POINT (4009500.000 2567500.000)</td>\n",
              "    </tr>\n",
              "    <tr>\n",
              "      <th>1</th>\n",
              "      <td>1kmE4009N2568</td>\n",
              "      <td>9.0</td>\n",
              "      <td>0.0</td>\n",
              "      <td>0.0</td>\n",
              "      <td>0.0</td>\n",
              "      <td>0.0</td>\n",
              "      <td>0.0</td>\n",
              "      <td>0.0</td>\n",
              "      <td>0.0</td>\n",
              "      <td>POLYGON ((4009000.000 2568000.000, 4009000.000...</td>\n",
              "      <td>POINT (4009500.000 2568500.000)</td>\n",
              "    </tr>\n",
              "    <tr>\n",
              "      <th>2</th>\n",
              "      <td>1kmE4010N2567</td>\n",
              "      <td>1.0</td>\n",
              "      <td>0.0</td>\n",
              "      <td>0.0</td>\n",
              "      <td>0.0</td>\n",
              "      <td>0.0</td>\n",
              "      <td>0.0</td>\n",
              "      <td>0.0</td>\n",
              "      <td>0.0</td>\n",
              "      <td>POLYGON ((4010000.000 2567000.000, 4010000.000...</td>\n",
              "      <td>POINT (4010500.000 2567500.000)</td>\n",
              "    </tr>\n",
              "    <tr>\n",
              "      <th>3</th>\n",
              "      <td>1kmE4010N2568</td>\n",
              "      <td>3.0</td>\n",
              "      <td>0.0</td>\n",
              "      <td>0.0</td>\n",
              "      <td>0.0</td>\n",
              "      <td>0.0</td>\n",
              "      <td>0.0</td>\n",
              "      <td>0.0</td>\n",
              "      <td>0.0</td>\n",
              "      <td>POLYGON ((4010000.000 2568000.000, 4010000.000...</td>\n",
              "      <td>POINT (4010500.000 2568500.000)</td>\n",
              "    </tr>\n",
              "    <tr>\n",
              "      <th>4</th>\n",
              "      <td>1kmE4010N2569</td>\n",
              "      <td>1.0</td>\n",
              "      <td>0.0</td>\n",
              "      <td>0.0</td>\n",
              "      <td>0.0</td>\n",
              "      <td>0.0</td>\n",
              "      <td>0.0</td>\n",
              "      <td>0.0</td>\n",
              "      <td>0.0</td>\n",
              "      <td>POLYGON ((4010000.000 2569000.000, 4010000.000...</td>\n",
              "      <td>POINT (4010500.000 2569500.000)</td>\n",
              "    </tr>\n",
              "  </tbody>\n",
              "</table>\n",
              "</div>\n",
              "      <button class=\"colab-df-convert\" onclick=\"convertToInteractive('df-eb6f2228-7b7e-4f5a-bde3-8e305003491f')\"\n",
              "              title=\"Convert this dataframe to an interactive table.\"\n",
              "              style=\"display:none;\">\n",
              "        \n",
              "  <svg xmlns=\"http://www.w3.org/2000/svg\" height=\"24px\"viewBox=\"0 0 24 24\"\n",
              "       width=\"24px\">\n",
              "    <path d=\"M0 0h24v24H0V0z\" fill=\"none\"/>\n",
              "    <path d=\"M18.56 5.44l.94 2.06.94-2.06 2.06-.94-2.06-.94-.94-2.06-.94 2.06-2.06.94zm-11 1L8.5 8.5l.94-2.06 2.06-.94-2.06-.94L8.5 2.5l-.94 2.06-2.06.94zm10 10l.94 2.06.94-2.06 2.06-.94-2.06-.94-.94-2.06-.94 2.06-2.06.94z\"/><path d=\"M17.41 7.96l-1.37-1.37c-.4-.4-.92-.59-1.43-.59-.52 0-1.04.2-1.43.59L10.3 9.45l-7.72 7.72c-.78.78-.78 2.05 0 2.83L4 21.41c.39.39.9.59 1.41.59.51 0 1.02-.2 1.41-.59l7.78-7.78 2.81-2.81c.8-.78.8-2.07 0-2.86zM5.41 20L4 18.59l7.72-7.72 1.47 1.35L5.41 20z\"/>\n",
              "  </svg>\n",
              "      </button>\n",
              "      \n",
              "  <style>\n",
              "    .colab-df-container {\n",
              "      display:flex;\n",
              "      flex-wrap:wrap;\n",
              "      gap: 12px;\n",
              "    }\n",
              "\n",
              "    .colab-df-convert {\n",
              "      background-color: #E8F0FE;\n",
              "      border: none;\n",
              "      border-radius: 50%;\n",
              "      cursor: pointer;\n",
              "      display: none;\n",
              "      fill: #1967D2;\n",
              "      height: 32px;\n",
              "      padding: 0 0 0 0;\n",
              "      width: 32px;\n",
              "    }\n",
              "\n",
              "    .colab-df-convert:hover {\n",
              "      background-color: #E2EBFA;\n",
              "      box-shadow: 0px 1px 2px rgba(60, 64, 67, 0.3), 0px 1px 3px 1px rgba(60, 64, 67, 0.15);\n",
              "      fill: #174EA6;\n",
              "    }\n",
              "\n",
              "    [theme=dark] .colab-df-convert {\n",
              "      background-color: #3B4455;\n",
              "      fill: #D2E3FC;\n",
              "    }\n",
              "\n",
              "    [theme=dark] .colab-df-convert:hover {\n",
              "      background-color: #434B5C;\n",
              "      box-shadow: 0px 1px 3px 1px rgba(0, 0, 0, 0.15);\n",
              "      filter: drop-shadow(0px 1px 2px rgba(0, 0, 0, 0.3));\n",
              "      fill: #FFFFFF;\n",
              "    }\n",
              "  </style>\n",
              "\n",
              "      <script>\n",
              "        const buttonEl =\n",
              "          document.querySelector('#df-eb6f2228-7b7e-4f5a-bde3-8e305003491f button.colab-df-convert');\n",
              "        buttonEl.style.display =\n",
              "          google.colab.kernel.accessAllowed ? 'block' : 'none';\n",
              "\n",
              "        async function convertToInteractive(key) {\n",
              "          const element = document.querySelector('#df-eb6f2228-7b7e-4f5a-bde3-8e305003491f');\n",
              "          const dataTable =\n",
              "            await google.colab.kernel.invokeFunction('convertToInteractive',\n",
              "                                                     [key], {});\n",
              "          if (!dataTable) return;\n",
              "\n",
              "          const docLinkHtml = 'Like what you see? Visit the ' +\n",
              "            '<a target=\"_blank\" href=https://colab.research.google.com/notebooks/data_table.ipynb>data table notebook</a>'\n",
              "            + ' to learn more about interactive tables.';\n",
              "          element.innerHTML = '';\n",
              "          dataTable['output_type'] = 'display_data';\n",
              "          await google.colab.output.renderOutput(dataTable, element);\n",
              "          const docLink = document.createElement('div');\n",
              "          docLink.innerHTML = docLinkHtml;\n",
              "          element.appendChild(docLink);\n",
              "        }\n",
              "      </script>\n",
              "    </div>\n",
              "  </div>\n",
              "  "
            ]
          },
          "metadata": {},
          "execution_count": 103
        }
      ]
    },
    {
      "cell_type": "code",
      "source": [
        "# Dividimos nuestras coordenadas en dos columnas y dividimos entre 1000 para tener unidades en km\n",
        "data['N'] = data.centroid.y/1000\n",
        "data['E'] = data.centroid.x/1000"
      ],
      "metadata": {
        "id": "Kk8i-9Fdk99x"
      },
      "execution_count": null,
      "outputs": []
    },
    {
      "cell_type": "code",
      "source": [
        "# Nos desasemos de los poligonos y transformamos nuestras coordenadas en lat/lng\n",
        "data = data.drop('geometry', axis = 1)\n",
        "data = data.rename(columns = {\"centroid\":\"geometry\"}).to_crs(\"EPSG:4326\")"
      ],
      "metadata": {
        "id": "tcwlTi1ooIol"
      },
      "execution_count": null,
      "outputs": []
    },
    {
      "cell_type": "code",
      "source": [
        "# Dividimos nuestras coordenadas en dos columnas\n",
        "data['Lat'] = data.geometry.y\n",
        "data['Lng'] = data.geometry.x"
      ],
      "metadata": {
        "id": "MzBWwRKJqGbi"
      },
      "execution_count": null,
      "outputs": []
    },
    {
      "cell_type": "code",
      "source": [
        "# Eliminamos columnas no deseadas\n",
        "data = data.drop([\"Wi_count\",\t\"Hy_count\",\t\"Bi_count\",\t\"Wa_count\",\t\"Na_count\",\t\"Nu_count\"\t,\"Cr_count\", \"geometry\"], axis = 1)"
      ],
      "metadata": {
        "id": "Z_gqQrvaqTEt"
      },
      "execution_count": null,
      "outputs": []
    },
    {
      "cell_type": "code",
      "source": [
        "# Guardamos nuestros datos\n",
        "df = pd.DataFrame(data)\n",
        "df.to_csv(\"/content/drive/Shareddrives/PV/data/CELLCODE_PV_count.csv\")"
      ],
      "metadata": {
        "id": "oKFYt5Iut5mX"
      },
      "execution_count": null,
      "outputs": []
    }
  ]
}